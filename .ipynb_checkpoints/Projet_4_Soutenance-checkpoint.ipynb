{
 "cells": [
  {
   "cell_type": "markdown",
   "id": "78d72065",
   "metadata": {},
   "source": [
    "P4 Réalisez une étude de santé publique "
   ]
  },
  {
   "cell_type": "markdown",
   "id": "33314933",
   "metadata": {},
   "source": [
    "Objectif pédagogique : \n",
    "Première decouverte de Python avec utilisation des dataFrame et des librairies"
   ]
  },
  {
   "cell_type": "markdown",
   "id": "e34986a5",
   "metadata": {},
   "source": [
    "**Import des librairies**"
   ]
  },
  {
   "cell_type": "code",
   "execution_count": 4,
   "id": "5d12be73",
   "metadata": {},
   "outputs": [],
   "source": [
    "import pandas as pd\n",
    "import numpy as np\n",
    "\n",
    "import matplotlib.pyplot as plt\n",
    "import seaborn as sns\n",
    "\n",
    "# import plotly.express as px\n",
    "\n",
    "\n"
   ]
  },
  {
   "cell_type": "markdown",
   "id": "828dc101",
   "metadata": {},
   "source": [
    "# Import et visualisation des données"
   ]
  },
  {
   "cell_type": "code",
   "execution_count": 5,
   "id": "aa4e45ef",
   "metadata": {},
   "outputs": [],
   "source": [
    "df_SousNutri = pd.read_csv(\"sous_nutrition.csv\")\n",
    "df_Population = pd.read_csv(\"population.csv\")\n",
    "df_Dispo = pd.read_csv(\"dispo_alimentaire.csv\")\n",
    "df_Aide = pd.read_csv(\"aide_alimentaire.csv\")"
   ]
  },
  {
   "cell_type": "markdown",
   "id": "e78310df",
   "metadata": {},
   "source": [
    "## df_Population"
   ]
  },
  {
   "cell_type": "code",
   "execution_count": 6,
   "id": "93c53e68",
   "metadata": {},
   "outputs": [
    {
     "data": {
      "text/html": [
       "<div>\n",
       "<style scoped>\n",
       "    .dataframe tbody tr th:only-of-type {\n",
       "        vertical-align: middle;\n",
       "    }\n",
       "\n",
       "    .dataframe tbody tr th {\n",
       "        vertical-align: top;\n",
       "    }\n",
       "\n",
       "    .dataframe thead th {\n",
       "        text-align: right;\n",
       "    }\n",
       "</style>\n",
       "<table border=\"1\" class=\"dataframe\">\n",
       "  <thead>\n",
       "    <tr style=\"text-align: right;\">\n",
       "      <th></th>\n",
       "      <th>Zone</th>\n",
       "      <th>Année</th>\n",
       "      <th>Valeur</th>\n",
       "    </tr>\n",
       "  </thead>\n",
       "  <tbody>\n",
       "    <tr>\n",
       "      <th>0</th>\n",
       "      <td>Afghanistan</td>\n",
       "      <td>2013</td>\n",
       "      <td>32269.589</td>\n",
       "    </tr>\n",
       "    <tr>\n",
       "      <th>1</th>\n",
       "      <td>Afghanistan</td>\n",
       "      <td>2014</td>\n",
       "      <td>33370.794</td>\n",
       "    </tr>\n",
       "    <tr>\n",
       "      <th>2</th>\n",
       "      <td>Afghanistan</td>\n",
       "      <td>2015</td>\n",
       "      <td>34413.603</td>\n",
       "    </tr>\n",
       "    <tr>\n",
       "      <th>3</th>\n",
       "      <td>Afghanistan</td>\n",
       "      <td>2016</td>\n",
       "      <td>35383.032</td>\n",
       "    </tr>\n",
       "    <tr>\n",
       "      <th>4</th>\n",
       "      <td>Afghanistan</td>\n",
       "      <td>2017</td>\n",
       "      <td>36296.113</td>\n",
       "    </tr>\n",
       "  </tbody>\n",
       "</table>\n",
       "</div>"
      ],
      "text/plain": [
       "          Zone  Année     Valeur\n",
       "0  Afghanistan   2013  32269.589\n",
       "1  Afghanistan   2014  33370.794\n",
       "2  Afghanistan   2015  34413.603\n",
       "3  Afghanistan   2016  35383.032\n",
       "4  Afghanistan   2017  36296.113"
      ]
     },
     "execution_count": 6,
     "metadata": {},
     "output_type": "execute_result"
    }
   ],
   "source": [
    "df_Population.head(5)"
   ]
  },
  {
   "cell_type": "code",
   "execution_count": 7,
   "id": "deeb0293",
   "metadata": {},
   "outputs": [
    {
     "name": "stdout",
     "output_type": "stream",
     "text": [
      "<class 'pandas.core.frame.DataFrame'>\n",
      "RangeIndex: 1416 entries, 0 to 1415\n",
      "Data columns (total 3 columns):\n",
      " #   Column  Non-Null Count  Dtype  \n",
      "---  ------  --------------  -----  \n",
      " 0   Zone    1416 non-null   object \n",
      " 1   Année   1416 non-null   int64  \n",
      " 2   Valeur  1416 non-null   float64\n",
      "dtypes: float64(1), int64(1), object(1)\n",
      "memory usage: 33.3+ KB\n"
     ]
    }
   ],
   "source": [
    "df_Population.info()"
   ]
  },
  {
   "cell_type": "markdown",
   "id": "6d4df583",
   "metadata": {},
   "source": [
    "## df_SousNutri"
   ]
  },
  {
   "cell_type": "code",
   "execution_count": 8,
   "id": "be2d2dfc",
   "metadata": {},
   "outputs": [
    {
     "data": {
      "text/html": [
       "<div>\n",
       "<style scoped>\n",
       "    .dataframe tbody tr th:only-of-type {\n",
       "        vertical-align: middle;\n",
       "    }\n",
       "\n",
       "    .dataframe tbody tr th {\n",
       "        vertical-align: top;\n",
       "    }\n",
       "\n",
       "    .dataframe thead th {\n",
       "        text-align: right;\n",
       "    }\n",
       "</style>\n",
       "<table border=\"1\" class=\"dataframe\">\n",
       "  <thead>\n",
       "    <tr style=\"text-align: right;\">\n",
       "      <th></th>\n",
       "      <th>Zone</th>\n",
       "      <th>Année</th>\n",
       "      <th>Valeur</th>\n",
       "    </tr>\n",
       "  </thead>\n",
       "  <tbody>\n",
       "    <tr>\n",
       "      <th>0</th>\n",
       "      <td>Afghanistan</td>\n",
       "      <td>2012-2014</td>\n",
       "      <td>8.6</td>\n",
       "    </tr>\n",
       "    <tr>\n",
       "      <th>1</th>\n",
       "      <td>Afghanistan</td>\n",
       "      <td>2013-2015</td>\n",
       "      <td>8.8</td>\n",
       "    </tr>\n",
       "    <tr>\n",
       "      <th>2</th>\n",
       "      <td>Afghanistan</td>\n",
       "      <td>2014-2016</td>\n",
       "      <td>8.9</td>\n",
       "    </tr>\n",
       "    <tr>\n",
       "      <th>3</th>\n",
       "      <td>Afghanistan</td>\n",
       "      <td>2015-2017</td>\n",
       "      <td>9.7</td>\n",
       "    </tr>\n",
       "    <tr>\n",
       "      <th>4</th>\n",
       "      <td>Afghanistan</td>\n",
       "      <td>2016-2018</td>\n",
       "      <td>10.5</td>\n",
       "    </tr>\n",
       "  </tbody>\n",
       "</table>\n",
       "</div>"
      ],
      "text/plain": [
       "          Zone      Année Valeur\n",
       "0  Afghanistan  2012-2014    8.6\n",
       "1  Afghanistan  2013-2015    8.8\n",
       "2  Afghanistan  2014-2016    8.9\n",
       "3  Afghanistan  2015-2017    9.7\n",
       "4  Afghanistan  2016-2018   10.5"
      ]
     },
     "execution_count": 8,
     "metadata": {},
     "output_type": "execute_result"
    }
   ],
   "source": [
    "df_SousNutri.head(5)"
   ]
  },
  {
   "cell_type": "code",
   "execution_count": 9,
   "id": "4c08d2ca",
   "metadata": {},
   "outputs": [
    {
     "name": "stdout",
     "output_type": "stream",
     "text": [
      "<class 'pandas.core.frame.DataFrame'>\n",
      "RangeIndex: 1218 entries, 0 to 1217\n",
      "Data columns (total 3 columns):\n",
      " #   Column  Non-Null Count  Dtype \n",
      "---  ------  --------------  ----- \n",
      " 0   Zone    1218 non-null   object\n",
      " 1   Année   1218 non-null   object\n",
      " 2   Valeur  624 non-null    object\n",
      "dtypes: object(3)\n",
      "memory usage: 28.7+ KB\n"
     ]
    }
   ],
   "source": [
    "df_SousNutri.info()"
   ]
  },
  {
   "cell_type": "code",
   "execution_count": 10,
   "id": "f90c4a3d",
   "metadata": {},
   "outputs": [
    {
     "data": {
      "text/plain": [
       "Zone        0\n",
       "Année       0\n",
       "Valeur    594\n",
       "dtype: int64"
      ]
     },
     "execution_count": 10,
     "metadata": {},
     "output_type": "execute_result"
    }
   ],
   "source": [
    "# Verification des valeures manquantes\n",
    "df_SousNutri.isna().sum()"
   ]
  },
  {
   "cell_type": "markdown",
   "id": "305bb6ba",
   "metadata": {},
   "source": [
    "594 valeurs manquantes"
   ]
  },
  {
   "cell_type": "markdown",
   "id": "504d79e5",
   "metadata": {},
   "source": [
    "## df_Dispo"
   ]
  },
  {
   "cell_type": "code",
   "execution_count": 59,
   "id": "65dca58e",
   "metadata": {},
   "outputs": [
    {
     "data": {
      "text/html": [
       "<div>\n",
       "<style scoped>\n",
       "    .dataframe tbody tr th:only-of-type {\n",
       "        vertical-align: middle;\n",
       "    }\n",
       "\n",
       "    .dataframe tbody tr th {\n",
       "        vertical-align: top;\n",
       "    }\n",
       "\n",
       "    .dataframe thead th {\n",
       "        text-align: right;\n",
       "    }\n",
       "</style>\n",
       "<table border=\"1\" class=\"dataframe\">\n",
       "  <thead>\n",
       "    <tr style=\"text-align: right;\">\n",
       "      <th></th>\n",
       "      <th>Zone</th>\n",
       "      <th>Produit</th>\n",
       "      <th>Origine</th>\n",
       "      <th>Aliments pour animaux</th>\n",
       "      <th>Autres Utilisations</th>\n",
       "      <th>Disponibilité alimentaire (Kcal/personne/jour)</th>\n",
       "      <th>Disponibilité alimentaire en quantité (kg/personne/an)</th>\n",
       "      <th>Disponibilité de matière grasse en quantité (g/personne/jour)</th>\n",
       "      <th>Disponibilité de protéines en quantité (g/personne/jour)</th>\n",
       "      <th>Disponibilité intérieure</th>\n",
       "      <th>Exportations - Quantité</th>\n",
       "      <th>Importations - Quantité</th>\n",
       "      <th>Nourriture</th>\n",
       "      <th>Pertes</th>\n",
       "      <th>Production</th>\n",
       "      <th>Semences</th>\n",
       "      <th>Traitement</th>\n",
       "      <th>Variation de stock</th>\n",
       "    </tr>\n",
       "  </thead>\n",
       "  <tbody>\n",
       "    <tr>\n",
       "      <th>0</th>\n",
       "      <td>Afghanistan</td>\n",
       "      <td>Abats Comestible</td>\n",
       "      <td>animale</td>\n",
       "      <td>NaN</td>\n",
       "      <td>NaN</td>\n",
       "      <td>5.0</td>\n",
       "      <td>1.72</td>\n",
       "      <td>0.20</td>\n",
       "      <td>0.77</td>\n",
       "      <td>53.0</td>\n",
       "      <td>NaN</td>\n",
       "      <td>NaN</td>\n",
       "      <td>53.0</td>\n",
       "      <td>NaN</td>\n",
       "      <td>53.0</td>\n",
       "      <td>NaN</td>\n",
       "      <td>NaN</td>\n",
       "      <td>NaN</td>\n",
       "    </tr>\n",
       "    <tr>\n",
       "      <th>1</th>\n",
       "      <td>Afghanistan</td>\n",
       "      <td>Agrumes, Autres</td>\n",
       "      <td>vegetale</td>\n",
       "      <td>NaN</td>\n",
       "      <td>NaN</td>\n",
       "      <td>1.0</td>\n",
       "      <td>1.29</td>\n",
       "      <td>0.01</td>\n",
       "      <td>0.02</td>\n",
       "      <td>41.0</td>\n",
       "      <td>2.0</td>\n",
       "      <td>40.0</td>\n",
       "      <td>39.0</td>\n",
       "      <td>2.0</td>\n",
       "      <td>3.0</td>\n",
       "      <td>NaN</td>\n",
       "      <td>NaN</td>\n",
       "      <td>NaN</td>\n",
       "    </tr>\n",
       "    <tr>\n",
       "      <th>2</th>\n",
       "      <td>Afghanistan</td>\n",
       "      <td>Aliments pour enfants</td>\n",
       "      <td>vegetale</td>\n",
       "      <td>NaN</td>\n",
       "      <td>NaN</td>\n",
       "      <td>1.0</td>\n",
       "      <td>0.06</td>\n",
       "      <td>0.01</td>\n",
       "      <td>0.03</td>\n",
       "      <td>2.0</td>\n",
       "      <td>NaN</td>\n",
       "      <td>2.0</td>\n",
       "      <td>2.0</td>\n",
       "      <td>NaN</td>\n",
       "      <td>NaN</td>\n",
       "      <td>NaN</td>\n",
       "      <td>NaN</td>\n",
       "      <td>NaN</td>\n",
       "    </tr>\n",
       "    <tr>\n",
       "      <th>3</th>\n",
       "      <td>Afghanistan</td>\n",
       "      <td>Ananas</td>\n",
       "      <td>vegetale</td>\n",
       "      <td>NaN</td>\n",
       "      <td>NaN</td>\n",
       "      <td>0.0</td>\n",
       "      <td>0.00</td>\n",
       "      <td>NaN</td>\n",
       "      <td>NaN</td>\n",
       "      <td>0.0</td>\n",
       "      <td>NaN</td>\n",
       "      <td>0.0</td>\n",
       "      <td>0.0</td>\n",
       "      <td>NaN</td>\n",
       "      <td>NaN</td>\n",
       "      <td>NaN</td>\n",
       "      <td>NaN</td>\n",
       "      <td>NaN</td>\n",
       "    </tr>\n",
       "    <tr>\n",
       "      <th>4</th>\n",
       "      <td>Afghanistan</td>\n",
       "      <td>Bananes</td>\n",
       "      <td>vegetale</td>\n",
       "      <td>NaN</td>\n",
       "      <td>NaN</td>\n",
       "      <td>4.0</td>\n",
       "      <td>2.70</td>\n",
       "      <td>0.02</td>\n",
       "      <td>0.05</td>\n",
       "      <td>82.0</td>\n",
       "      <td>NaN</td>\n",
       "      <td>82.0</td>\n",
       "      <td>82.0</td>\n",
       "      <td>NaN</td>\n",
       "      <td>NaN</td>\n",
       "      <td>NaN</td>\n",
       "      <td>NaN</td>\n",
       "      <td>NaN</td>\n",
       "    </tr>\n",
       "  </tbody>\n",
       "</table>\n",
       "</div>"
      ],
      "text/plain": [
       "          Zone                Produit   Origine  Aliments pour animaux  \\\n",
       "0  Afghanistan       Abats Comestible   animale                    NaN   \n",
       "1  Afghanistan        Agrumes, Autres  vegetale                    NaN   \n",
       "2  Afghanistan  Aliments pour enfants  vegetale                    NaN   \n",
       "3  Afghanistan                 Ananas  vegetale                    NaN   \n",
       "4  Afghanistan                Bananes  vegetale                    NaN   \n",
       "\n",
       "   Autres Utilisations  Disponibilité alimentaire (Kcal/personne/jour)  \\\n",
       "0                  NaN                                             5.0   \n",
       "1                  NaN                                             1.0   \n",
       "2                  NaN                                             1.0   \n",
       "3                  NaN                                             0.0   \n",
       "4                  NaN                                             4.0   \n",
       "\n",
       "   Disponibilité alimentaire en quantité (kg/personne/an)  \\\n",
       "0                                               1.72        \n",
       "1                                               1.29        \n",
       "2                                               0.06        \n",
       "3                                               0.00        \n",
       "4                                               2.70        \n",
       "\n",
       "   Disponibilité de matière grasse en quantité (g/personne/jour)  \\\n",
       "0                                               0.20               \n",
       "1                                               0.01               \n",
       "2                                               0.01               \n",
       "3                                                NaN               \n",
       "4                                               0.02               \n",
       "\n",
       "   Disponibilité de protéines en quantité (g/personne/jour)  \\\n",
       "0                                               0.77          \n",
       "1                                               0.02          \n",
       "2                                               0.03          \n",
       "3                                                NaN          \n",
       "4                                               0.05          \n",
       "\n",
       "   Disponibilité intérieure  Exportations - Quantité  Importations - Quantité  \\\n",
       "0                      53.0                      NaN                      NaN   \n",
       "1                      41.0                      2.0                     40.0   \n",
       "2                       2.0                      NaN                      2.0   \n",
       "3                       0.0                      NaN                      0.0   \n",
       "4                      82.0                      NaN                     82.0   \n",
       "\n",
       "   Nourriture  Pertes  Production  Semences  Traitement  Variation de stock  \n",
       "0        53.0     NaN        53.0       NaN         NaN                 NaN  \n",
       "1        39.0     2.0         3.0       NaN         NaN                 NaN  \n",
       "2         2.0     NaN         NaN       NaN         NaN                 NaN  \n",
       "3         0.0     NaN         NaN       NaN         NaN                 NaN  \n",
       "4        82.0     NaN         NaN       NaN         NaN                 NaN  "
      ]
     },
     "execution_count": 59,
     "metadata": {},
     "output_type": "execute_result"
    }
   ],
   "source": [
    "df_Dispo.head(5)"
   ]
  },
  {
   "cell_type": "code",
   "execution_count": 60,
   "id": "1975f823",
   "metadata": {},
   "outputs": [
    {
     "name": "stdout",
     "output_type": "stream",
     "text": [
      "<class 'pandas.core.frame.DataFrame'>\n",
      "RangeIndex: 15605 entries, 0 to 15604\n",
      "Data columns (total 18 columns):\n",
      " #   Column                                                         Non-Null Count  Dtype  \n",
      "---  ------                                                         --------------  -----  \n",
      " 0   Zone                                                           15605 non-null  object \n",
      " 1   Produit                                                        15605 non-null  object \n",
      " 2   Origine                                                        15605 non-null  object \n",
      " 3   Aliments pour animaux                                          2720 non-null   float64\n",
      " 4   Autres Utilisations                                            5496 non-null   float64\n",
      " 5   Disponibilité alimentaire (Kcal/personne/jour)                 14241 non-null  float64\n",
      " 6   Disponibilité alimentaire en quantité (kg/personne/an)         14015 non-null  float64\n",
      " 7   Disponibilité de matière grasse en quantité (g/personne/jour)  11794 non-null  float64\n",
      " 8   Disponibilité de protéines en quantité (g/personne/jour)       11561 non-null  float64\n",
      " 9   Disponibilité intérieure                                       15382 non-null  float64\n",
      " 10  Exportations - Quantité                                        12226 non-null  float64\n",
      " 11  Importations - Quantité                                        14852 non-null  float64\n",
      " 12  Nourriture                                                     14015 non-null  float64\n",
      " 13  Pertes                                                         4278 non-null   float64\n",
      " 14  Production                                                     9180 non-null   float64\n",
      " 15  Semences                                                       2091 non-null   float64\n",
      " 16  Traitement                                                     2292 non-null   float64\n",
      " 17  Variation de stock                                             6776 non-null   float64\n",
      "dtypes: float64(15), object(3)\n",
      "memory usage: 2.1+ MB\n"
     ]
    }
   ],
   "source": [
    "df_Dispo.info()"
   ]
  },
  {
   "cell_type": "markdown",
   "id": "ccea6d0c",
   "metadata": {},
   "source": [
    "## df_Aide"
   ]
  },
  {
   "cell_type": "code",
   "execution_count": 61,
   "id": "4c461eed",
   "metadata": {},
   "outputs": [
    {
     "data": {
      "text/html": [
       "<div>\n",
       "<style scoped>\n",
       "    .dataframe tbody tr th:only-of-type {\n",
       "        vertical-align: middle;\n",
       "    }\n",
       "\n",
       "    .dataframe tbody tr th {\n",
       "        vertical-align: top;\n",
       "    }\n",
       "\n",
       "    .dataframe thead th {\n",
       "        text-align: right;\n",
       "    }\n",
       "</style>\n",
       "<table border=\"1\" class=\"dataframe\">\n",
       "  <thead>\n",
       "    <tr style=\"text-align: right;\">\n",
       "      <th></th>\n",
       "      <th>Zone</th>\n",
       "      <th>Année</th>\n",
       "      <th>Produit</th>\n",
       "      <th>Valeur</th>\n",
       "    </tr>\n",
       "  </thead>\n",
       "  <tbody>\n",
       "    <tr>\n",
       "      <th>0</th>\n",
       "      <td>Afghanistan</td>\n",
       "      <td>2013</td>\n",
       "      <td>Autres non-céréales</td>\n",
       "      <td>682</td>\n",
       "    </tr>\n",
       "    <tr>\n",
       "      <th>1</th>\n",
       "      <td>Afghanistan</td>\n",
       "      <td>2014</td>\n",
       "      <td>Autres non-céréales</td>\n",
       "      <td>335</td>\n",
       "    </tr>\n",
       "    <tr>\n",
       "      <th>2</th>\n",
       "      <td>Afghanistan</td>\n",
       "      <td>2013</td>\n",
       "      <td>Blé et Farin</td>\n",
       "      <td>39224</td>\n",
       "    </tr>\n",
       "    <tr>\n",
       "      <th>3</th>\n",
       "      <td>Afghanistan</td>\n",
       "      <td>2014</td>\n",
       "      <td>Blé et Farin</td>\n",
       "      <td>15160</td>\n",
       "    </tr>\n",
       "    <tr>\n",
       "      <th>4</th>\n",
       "      <td>Afghanistan</td>\n",
       "      <td>2013</td>\n",
       "      <td>Céréales</td>\n",
       "      <td>40504</td>\n",
       "    </tr>\n",
       "  </tbody>\n",
       "</table>\n",
       "</div>"
      ],
      "text/plain": [
       "          Zone  Année              Produit  Valeur\n",
       "0  Afghanistan   2013  Autres non-céréales     682\n",
       "1  Afghanistan   2014  Autres non-céréales     335\n",
       "2  Afghanistan   2013         Blé et Farin   39224\n",
       "3  Afghanistan   2014         Blé et Farin   15160\n",
       "4  Afghanistan   2013             Céréales   40504"
      ]
     },
     "execution_count": 61,
     "metadata": {},
     "output_type": "execute_result"
    }
   ],
   "source": [
    "df_Aide.rename(columns={'Pays bénéficiaire':'Zone'},inplace=True)\n",
    "df_Aide.head(5)"
   ]
  },
  {
   "cell_type": "code",
   "execution_count": 62,
   "id": "6e9e0c31",
   "metadata": {},
   "outputs": [
    {
     "name": "stdout",
     "output_type": "stream",
     "text": [
      "<class 'pandas.core.frame.DataFrame'>\n",
      "RangeIndex: 1475 entries, 0 to 1474\n",
      "Data columns (total 4 columns):\n",
      " #   Column   Non-Null Count  Dtype \n",
      "---  ------   --------------  ----- \n",
      " 0   Zone     1475 non-null   object\n",
      " 1   Année    1475 non-null   int64 \n",
      " 2   Produit  1475 non-null   object\n",
      " 3   Valeur   1475 non-null   int64 \n",
      "dtypes: int64(2), object(2)\n",
      "memory usage: 46.2+ KB\n"
     ]
    }
   ],
   "source": [
    "df_Aide.info()"
   ]
  },
  {
   "cell_type": "markdown",
   "id": "0311534a",
   "metadata": {},
   "source": [
    "# Question 1 :proportion de personnes en état de sous-nutrition\n",
    "\n",
    "**Question de Marc** : la proportion de personnes en état de sous-nutrition"
   ]
  },
  {
   "cell_type": "markdown",
   "id": "d9e15554",
   "metadata": {},
   "source": [
    "## Traitement de sousNutrition + merge avec population"
   ]
  },
  {
   "cell_type": "code",
   "execution_count": 63,
   "id": "0f83a163",
   "metadata": {},
   "outputs": [],
   "source": [
    "# remplacer \"2016-2018\" par 2017\n",
    "# pour fusionner avec le fichier population\n",
    "df_SousNutri['Année'] = df_SousNutri['Année'].replace(['2012-2014', '2013-2015', '2014-2016', '2015-2017', '2016-2018',\n",
    "                                                       '2017-2019'], [2013, 2014, 2015, 2016, 2017, 2018])\n"
   ]
  },
  {
   "cell_type": "code",
   "execution_count": 64,
   "id": "1bc9df68",
   "metadata": {},
   "outputs": [],
   "source": [
    "#Convertir la colonne Valeur_SousNutri de object vers Float pour les calculs\n",
    "df_SousNutri['Valeur'] = pd.to_numeric(df_SousNutri['Valeur'],errors = 'coerce')\n",
    "\n",
    "#Le nombre de personnes en sous-alimentation en millions d’habitants\n",
    "#La population du pays, exprimée en milliers d’habitants.\n",
    "#multiplication par 1000 pour avoir homogénéiser avec la population mondiale en milliers\n",
    "\n",
    "df_SousNutri['Valeur'] = df_SousNutri['Valeur']*1000"
   ]
  },
  {
   "cell_type": "markdown",
   "id": "9a0ce3a9",
   "metadata": {},
   "source": [
    "**explication du to_numerci et du errors**\n",
    "\n",
    "pandas.to_numeric(arg, errors='raise', downcast=None)\n",
    "Parameters\n",
    "argscalar, list, tuple, 1-d array, or Series\n",
    "Argument to be converted.\n",
    "\n",
    "errors{‘ignore’, ‘raise’, ‘coerce’}, default ‘raise’\n",
    "If ‘raise’, then invalid parsing will raise an exception.\n",
    "\n",
    "If ‘coerce’, then invalid parsing will be set as NaN.\n",
    "\n",
    "If ‘ignore’, then invalid parsing will return the input."
   ]
  },
  {
   "cell_type": "code",
   "execution_count": 65,
   "id": "28058247",
   "metadata": {},
   "outputs": [
    {
     "data": {
      "text/html": [
       "<div>\n",
       "<style scoped>\n",
       "    .dataframe tbody tr th:only-of-type {\n",
       "        vertical-align: middle;\n",
       "    }\n",
       "\n",
       "    .dataframe tbody tr th {\n",
       "        vertical-align: top;\n",
       "    }\n",
       "\n",
       "    .dataframe thead th {\n",
       "        text-align: right;\n",
       "    }\n",
       "</style>\n",
       "<table border=\"1\" class=\"dataframe\">\n",
       "  <thead>\n",
       "    <tr style=\"text-align: right;\">\n",
       "      <th></th>\n",
       "      <th>Zone</th>\n",
       "      <th>Année</th>\n",
       "      <th>Valeur_x</th>\n",
       "      <th>Valeur_y</th>\n",
       "    </tr>\n",
       "  </thead>\n",
       "  <tbody>\n",
       "    <tr>\n",
       "      <th>0</th>\n",
       "      <td>Afghanistan</td>\n",
       "      <td>2013</td>\n",
       "      <td>32269.589</td>\n",
       "      <td>8600.0</td>\n",
       "    </tr>\n",
       "    <tr>\n",
       "      <th>1</th>\n",
       "      <td>Afghanistan</td>\n",
       "      <td>2014</td>\n",
       "      <td>33370.794</td>\n",
       "      <td>8800.0</td>\n",
       "    </tr>\n",
       "    <tr>\n",
       "      <th>2</th>\n",
       "      <td>Afghanistan</td>\n",
       "      <td>2015</td>\n",
       "      <td>34413.603</td>\n",
       "      <td>8900.0</td>\n",
       "    </tr>\n",
       "    <tr>\n",
       "      <th>3</th>\n",
       "      <td>Afghanistan</td>\n",
       "      <td>2016</td>\n",
       "      <td>35383.032</td>\n",
       "      <td>9700.0</td>\n",
       "    </tr>\n",
       "    <tr>\n",
       "      <th>4</th>\n",
       "      <td>Afghanistan</td>\n",
       "      <td>2017</td>\n",
       "      <td>36296.113</td>\n",
       "      <td>10500.0</td>\n",
       "    </tr>\n",
       "  </tbody>\n",
       "</table>\n",
       "</div>"
      ],
      "text/plain": [
       "          Zone  Année   Valeur_x  Valeur_y\n",
       "0  Afghanistan   2013  32269.589    8600.0\n",
       "1  Afghanistan   2014  33370.794    8800.0\n",
       "2  Afghanistan   2015  34413.603    8900.0\n",
       "3  Afghanistan   2016  35383.032    9700.0\n",
       "4  Afghanistan   2017  36296.113   10500.0"
      ]
     },
     "execution_count": 65,
     "metadata": {},
     "output_type": "execute_result"
    }
   ],
   "source": [
    "#On merge les df_popu et df_nutri ensemble sur les colonnes 'Zone' et Année' dans une nouveau df appelé 'df_Pop_Nutri'\n",
    "df_Pop_Nutri = pd.merge(df_Population,df_SousNutri, how='right', on=['Zone','Année'] )\n",
    "df_Pop_Nutri.head(5)"
   ]
  },
  {
   "cell_type": "code",
   "execution_count": 66,
   "id": "dded51c2",
   "metadata": {},
   "outputs": [],
   "source": [
    "#renommer les colonnes valeurs qui ont le meme nom\n",
    "#exemple OC => clients.rename(columns={'identifiant': 'ide'}) code OC trouvé pour l'exemple\n",
    "df_Pop_Nutri = df_Pop_Nutri.rename(columns={'Valeur_x':'Valeur_Population','Valeur_y':'Valeur_SousNutri'})"
   ]
  },
  {
   "cell_type": "code",
   "execution_count": 67,
   "id": "467e332b",
   "metadata": {},
   "outputs": [
    {
     "data": {
      "text/html": [
       "<div>\n",
       "<style scoped>\n",
       "    .dataframe tbody tr th:only-of-type {\n",
       "        vertical-align: middle;\n",
       "    }\n",
       "\n",
       "    .dataframe tbody tr th {\n",
       "        vertical-align: top;\n",
       "    }\n",
       "\n",
       "    .dataframe thead th {\n",
       "        text-align: right;\n",
       "    }\n",
       "</style>\n",
       "<table border=\"1\" class=\"dataframe\">\n",
       "  <thead>\n",
       "    <tr style=\"text-align: right;\">\n",
       "      <th></th>\n",
       "      <th>Zone</th>\n",
       "      <th>Année</th>\n",
       "      <th>Valeur_Population</th>\n",
       "      <th>Valeur_SousNutri</th>\n",
       "    </tr>\n",
       "  </thead>\n",
       "  <tbody>\n",
       "    <tr>\n",
       "      <th>4</th>\n",
       "      <td>Afghanistan</td>\n",
       "      <td>2017</td>\n",
       "      <td>36296.113</td>\n",
       "      <td>10500.0</td>\n",
       "    </tr>\n",
       "    <tr>\n",
       "      <th>10</th>\n",
       "      <td>Afrique du Sud</td>\n",
       "      <td>2017</td>\n",
       "      <td>57009.756</td>\n",
       "      <td>3100.0</td>\n",
       "    </tr>\n",
       "    <tr>\n",
       "      <th>16</th>\n",
       "      <td>Albanie</td>\n",
       "      <td>2017</td>\n",
       "      <td>2884.169</td>\n",
       "      <td>100.0</td>\n",
       "    </tr>\n",
       "    <tr>\n",
       "      <th>22</th>\n",
       "      <td>Algérie</td>\n",
       "      <td>2017</td>\n",
       "      <td>41389.189</td>\n",
       "      <td>1300.0</td>\n",
       "    </tr>\n",
       "    <tr>\n",
       "      <th>28</th>\n",
       "      <td>Allemagne</td>\n",
       "      <td>2017</td>\n",
       "      <td>82658.409</td>\n",
       "      <td>NaN</td>\n",
       "    </tr>\n",
       "  </tbody>\n",
       "</table>\n",
       "</div>"
      ],
      "text/plain": [
       "              Zone  Année  Valeur_Population  Valeur_SousNutri\n",
       "4      Afghanistan   2017          36296.113           10500.0\n",
       "10  Afrique du Sud   2017          57009.756            3100.0\n",
       "16         Albanie   2017           2884.169             100.0\n",
       "22         Algérie   2017          41389.189            1300.0\n",
       "28       Allemagne   2017          82658.409               NaN"
      ]
     },
     "execution_count": 67,
     "metadata": {},
     "output_type": "execute_result"
    }
   ],
   "source": [
    "# filtre sur 2017\n",
    "df_Pop_Nutri2017 = df_Pop_Nutri.loc[(df_Pop_Nutri[\"Année\"] == 2017)].copy()\n",
    "df_Pop_Nutri2017.head()"
   ]
  },
  {
   "cell_type": "markdown",
   "id": "39d4f771",
   "metadata": {},
   "source": [
    "## Résultat"
   ]
  },
  {
   "cell_type": "code",
   "execution_count": 68,
   "id": "192f1b88",
   "metadata": {},
   "outputs": [
    {
     "name": "stdout",
     "output_type": "stream",
     "text": [
      "Le population en 2017 etait de  7543799  milliers  Le population en sous nutrition 2017 etait de  535700  milliers \n",
      "La proportion de population en sous nitrution en 2027 est de  7.1  % \n"
     ]
    }
   ],
   "source": [
    "# Calcul de la proportion avec le total de la population mondiale et 2017\n",
    "# et le total de la population mondiale en sous-nutrition en 2027\n",
    "\n",
    "TotalPopulation2017 = df_Pop_Nutri2017['Valeur_Population'].sum()\n",
    "TotalSousNutrition2017 = df_Pop_Nutri2017['Valeur_SousNutri'].sum()\n",
    "print(\"Le population en 2017 etait de \", round(TotalPopulation2017), \" milliers \",\n",
    "      \"Le population en sous nutrition 2017 etait de \", round(TotalSousNutrition2017), \" milliers \",)\n",
    "\n",
    "# Calcul et affichage du resultat\n",
    "ProportionSousNutrition2027 = np.round(\n",
    "    (TotalSousNutrition2017/TotalPopulation2017)*100, 2)\n",
    "print(\"La proportion de population en sous nitrution en 2027 est de \",\n",
    "      ProportionSousNutrition2027, \" % \")\n",
    "\n",
    "# Ajouter un colonne pour les 2 populations"
   ]
  },
  {
   "cell_type": "markdown",
   "id": "e0a0eb34",
   "metadata": {},
   "source": [
    "# Question 2 : Disponibilité alimentaire mondiale\n",
    "\n",
    "Question de Marc : le nombre théorique de personnes qui pourraient être nourries. Tu devrais pouvoir calculer ça à partir de la disponibilité alimentaire mondiale"
   ]
  },
  {
   "cell_type": "markdown",
   "id": "a3837a11",
   "metadata": {},
   "source": [
    "## Récupération de la population 2013"
   ]
  },
  {
   "cell_type": "code",
   "execution_count": 69,
   "id": "f7e354a6",
   "metadata": {},
   "outputs": [
    {
     "data": {
      "text/html": [
       "<div>\n",
       "<style scoped>\n",
       "    .dataframe tbody tr th:only-of-type {\n",
       "        vertical-align: middle;\n",
       "    }\n",
       "\n",
       "    .dataframe tbody tr th {\n",
       "        vertical-align: top;\n",
       "    }\n",
       "\n",
       "    .dataframe thead th {\n",
       "        text-align: right;\n",
       "    }\n",
       "</style>\n",
       "<table border=\"1\" class=\"dataframe\">\n",
       "  <thead>\n",
       "    <tr style=\"text-align: right;\">\n",
       "      <th></th>\n",
       "      <th>Zone</th>\n",
       "      <th>Année</th>\n",
       "      <th>Valeur</th>\n",
       "    </tr>\n",
       "  </thead>\n",
       "  <tbody>\n",
       "    <tr>\n",
       "      <th>0</th>\n",
       "      <td>Afghanistan</td>\n",
       "      <td>2013</td>\n",
       "      <td>32269.589</td>\n",
       "    </tr>\n",
       "    <tr>\n",
       "      <th>6</th>\n",
       "      <td>Afrique du Sud</td>\n",
       "      <td>2013</td>\n",
       "      <td>53687.121</td>\n",
       "    </tr>\n",
       "    <tr>\n",
       "      <th>12</th>\n",
       "      <td>Albanie</td>\n",
       "      <td>2013</td>\n",
       "      <td>2903.790</td>\n",
       "    </tr>\n",
       "    <tr>\n",
       "      <th>18</th>\n",
       "      <td>Algérie</td>\n",
       "      <td>2013</td>\n",
       "      <td>38140.133</td>\n",
       "    </tr>\n",
       "    <tr>\n",
       "      <th>24</th>\n",
       "      <td>Allemagne</td>\n",
       "      <td>2013</td>\n",
       "      <td>81174.367</td>\n",
       "    </tr>\n",
       "  </tbody>\n",
       "</table>\n",
       "</div>"
      ],
      "text/plain": [
       "              Zone  Année     Valeur\n",
       "0      Afghanistan   2013  32269.589\n",
       "6   Afrique du Sud   2013  53687.121\n",
       "12         Albanie   2013   2903.790\n",
       "18         Algérie   2013  38140.133\n",
       "24       Allemagne   2013  81174.367"
      ]
     },
     "execution_count": 69,
     "metadata": {},
     "output_type": "execute_result"
    }
   ],
   "source": [
    "#On remplace le nom afin de toutes les infos matchent suite au controle fait dans le paragraphe 2\n",
    "df_Population['Zone'] = df_Population['Zone'].replace([\"Royaume-Uni de Grande-Bretagne et d'Irlande du Nord\"],['Royaume-Uni'])\n",
    "df_Population['Zone'] = df_Population['Zone'].replace([\"Tchéquie\"],['Tchéquie (la)'])\n",
    "\n",
    "# Recupère la population de 2013\n",
    "df_Pop2013 = df_Population.loc[(df_Population[\"Année\"] == 2013)]\n",
    "# Population en milliers d'habitant *1000\n",
    "NbPopulation2013 =  df_Pop2013['Valeur'].sum()*1000\n",
    "df_Pop2013.reset_index()\n",
    "df_Pop2013.head(5)"
   ]
  },
  {
   "cell_type": "markdown",
   "id": "ffa35079",
   "metadata": {},
   "source": [
    "## Controle du merge"
   ]
  },
  {
   "cell_type": "markdown",
   "id": "e9f934ee",
   "metadata": {},
   "source": [
    "Voir le détail de l'explication sur \n",
    "https://www.pythoniste.fr/python/pandas/fusionner-des-dataframes-a-laide-de-la-methode-merge/"
   ]
  },
  {
   "cell_type": "code",
   "execution_count": 70,
   "id": "439ccc74",
   "metadata": {},
   "outputs": [],
   "source": [
    "#Pour le controle des merge => La jointure Full Outer pour voir ceux pour lequel il y a un problème\n",
    "df_pop_pasok = pd.merge(df_Dispo, df_Pop2013, how='outer', on='Zone', indicator=True) .query('_merge!=\"both\"').drop(columns='_merge')\n",
    "df_pop_pasok2 = pd.merge(df_Pop2013, df_Dispo, how='outer', on='Zone', indicator=True) .query('_merge!=\"both\"').drop(columns='_merge')"
   ]
  },
  {
   "cell_type": "code",
   "execution_count": 71,
   "id": "0a075e3f",
   "metadata": {},
   "outputs": [],
   "source": [
    "df_pop_pasok = df_pop_pasok.loc[(df_pop_pasok[\"Disponibilité alimentaire (Kcal/personne/jour)\"] > 0)]\n",
    "df_pop_pasok = df_pop_pasok.groupby('Zone').sum()\n",
    "\n",
    "df_pop_pasok2= df_pop_pasok2.loc[(df_pop_pasok2[\"Valeur\"] > 0)]\n",
    "df_pop_pasok2 = df_pop_pasok2.groupby('Zone').sum()"
   ]
  },
  {
   "cell_type": "code",
   "execution_count": 72,
   "id": "2238d647",
   "metadata": {},
   "outputs": [
    {
     "data": {
      "text/html": [
       "<div>\n",
       "<style scoped>\n",
       "    .dataframe tbody tr th:only-of-type {\n",
       "        vertical-align: middle;\n",
       "    }\n",
       "\n",
       "    .dataframe tbody tr th {\n",
       "        vertical-align: top;\n",
       "    }\n",
       "\n",
       "    .dataframe thead th {\n",
       "        text-align: right;\n",
       "    }\n",
       "</style>\n",
       "<table border=\"1\" class=\"dataframe\">\n",
       "  <thead>\n",
       "    <tr style=\"text-align: right;\">\n",
       "      <th></th>\n",
       "      <th>Aliments pour animaux</th>\n",
       "      <th>Autres Utilisations</th>\n",
       "      <th>Disponibilité alimentaire (Kcal/personne/jour)</th>\n",
       "      <th>Disponibilité alimentaire en quantité (kg/personne/an)</th>\n",
       "      <th>Disponibilité de matière grasse en quantité (g/personne/jour)</th>\n",
       "      <th>Disponibilité de protéines en quantité (g/personne/jour)</th>\n",
       "      <th>Disponibilité intérieure</th>\n",
       "      <th>Exportations - Quantité</th>\n",
       "      <th>Importations - Quantité</th>\n",
       "      <th>Nourriture</th>\n",
       "      <th>Pertes</th>\n",
       "      <th>Production</th>\n",
       "      <th>Semences</th>\n",
       "      <th>Traitement</th>\n",
       "      <th>Variation de stock</th>\n",
       "      <th>Année</th>\n",
       "      <th>Valeur</th>\n",
       "    </tr>\n",
       "    <tr>\n",
       "      <th>Zone</th>\n",
       "      <th></th>\n",
       "      <th></th>\n",
       "      <th></th>\n",
       "      <th></th>\n",
       "      <th></th>\n",
       "      <th></th>\n",
       "      <th></th>\n",
       "      <th></th>\n",
       "      <th></th>\n",
       "      <th></th>\n",
       "      <th></th>\n",
       "      <th></th>\n",
       "      <th></th>\n",
       "      <th></th>\n",
       "      <th></th>\n",
       "      <th></th>\n",
       "      <th></th>\n",
       "    </tr>\n",
       "  </thead>\n",
       "  <tbody>\n",
       "  </tbody>\n",
       "</table>\n",
       "</div>"
      ],
      "text/plain": [
       "Empty DataFrame\n",
       "Columns: [Aliments pour animaux, Autres Utilisations, Disponibilité alimentaire (Kcal/personne/jour), Disponibilité alimentaire en quantité (kg/personne/an), Disponibilité de matière grasse en quantité (g/personne/jour), Disponibilité de protéines en quantité (g/personne/jour), Disponibilité intérieure, Exportations - Quantité, Importations - Quantité, Nourriture, Pertes, Production, Semences, Traitement, Variation de stock, Année, Valeur]\n",
       "Index: []"
      ]
     },
     "execution_count": 72,
     "metadata": {},
     "output_type": "execute_result"
    }
   ],
   "source": [
    "# pour trouver les pays qui ne match pas  => \n",
    "\n",
    "df_pop_pasok"
   ]
  },
  {
   "cell_type": "code",
   "execution_count": 73,
   "id": "efb43e96",
   "metadata": {},
   "outputs": [],
   "source": [
    "# pour trouver le nom à replacer\n",
    "#df_pop_pasok2.head(50) à afficher pour monter que tout est ok"
   ]
  },
  {
   "cell_type": "markdown",
   "id": "8be60cb8",
   "metadata": {},
   "source": [
    "## Merge Population2013 et DispoAlimentaire et Résultat"
   ]
  },
  {
   "cell_type": "code",
   "execution_count": 74,
   "id": "c328fd06",
   "metadata": {},
   "outputs": [
    {
     "data": {
      "text/html": [
       "<div>\n",
       "<style scoped>\n",
       "    .dataframe tbody tr th:only-of-type {\n",
       "        vertical-align: middle;\n",
       "    }\n",
       "\n",
       "    .dataframe tbody tr th {\n",
       "        vertical-align: top;\n",
       "    }\n",
       "\n",
       "    .dataframe thead th {\n",
       "        text-align: right;\n",
       "    }\n",
       "</style>\n",
       "<table border=\"1\" class=\"dataframe\">\n",
       "  <thead>\n",
       "    <tr style=\"text-align: right;\">\n",
       "      <th></th>\n",
       "      <th>Zone</th>\n",
       "      <th>Produit</th>\n",
       "      <th>Origine</th>\n",
       "      <th>Aliments pour animaux</th>\n",
       "      <th>Autres Utilisations</th>\n",
       "      <th>Disponibilité alimentaire (Kcal/personne/jour)</th>\n",
       "      <th>Disponibilité alimentaire en quantité (kg/personne/an)</th>\n",
       "      <th>Disponibilité de matière grasse en quantité (g/personne/jour)</th>\n",
       "      <th>Disponibilité de protéines en quantité (g/personne/jour)</th>\n",
       "      <th>Disponibilité intérieure</th>\n",
       "      <th>Exportations - Quantité</th>\n",
       "      <th>Importations - Quantité</th>\n",
       "      <th>Nourriture</th>\n",
       "      <th>Pertes</th>\n",
       "      <th>Production</th>\n",
       "      <th>Semences</th>\n",
       "      <th>Traitement</th>\n",
       "      <th>Variation de stock</th>\n",
       "      <th>Année</th>\n",
       "      <th>Valeur</th>\n",
       "    </tr>\n",
       "  </thead>\n",
       "  <tbody>\n",
       "    <tr>\n",
       "      <th>0</th>\n",
       "      <td>Afghanistan</td>\n",
       "      <td>Abats Comestible</td>\n",
       "      <td>animale</td>\n",
       "      <td>NaN</td>\n",
       "      <td>NaN</td>\n",
       "      <td>5.0</td>\n",
       "      <td>1.72</td>\n",
       "      <td>0.20</td>\n",
       "      <td>0.77</td>\n",
       "      <td>53.0</td>\n",
       "      <td>NaN</td>\n",
       "      <td>NaN</td>\n",
       "      <td>53.0</td>\n",
       "      <td>NaN</td>\n",
       "      <td>53.0</td>\n",
       "      <td>NaN</td>\n",
       "      <td>NaN</td>\n",
       "      <td>NaN</td>\n",
       "      <td>2013</td>\n",
       "      <td>32269.589</td>\n",
       "    </tr>\n",
       "    <tr>\n",
       "      <th>1</th>\n",
       "      <td>Afghanistan</td>\n",
       "      <td>Agrumes, Autres</td>\n",
       "      <td>vegetale</td>\n",
       "      <td>NaN</td>\n",
       "      <td>NaN</td>\n",
       "      <td>1.0</td>\n",
       "      <td>1.29</td>\n",
       "      <td>0.01</td>\n",
       "      <td>0.02</td>\n",
       "      <td>41.0</td>\n",
       "      <td>2.0</td>\n",
       "      <td>40.0</td>\n",
       "      <td>39.0</td>\n",
       "      <td>2.0</td>\n",
       "      <td>3.0</td>\n",
       "      <td>NaN</td>\n",
       "      <td>NaN</td>\n",
       "      <td>NaN</td>\n",
       "      <td>2013</td>\n",
       "      <td>32269.589</td>\n",
       "    </tr>\n",
       "    <tr>\n",
       "      <th>2</th>\n",
       "      <td>Afghanistan</td>\n",
       "      <td>Aliments pour enfants</td>\n",
       "      <td>vegetale</td>\n",
       "      <td>NaN</td>\n",
       "      <td>NaN</td>\n",
       "      <td>1.0</td>\n",
       "      <td>0.06</td>\n",
       "      <td>0.01</td>\n",
       "      <td>0.03</td>\n",
       "      <td>2.0</td>\n",
       "      <td>NaN</td>\n",
       "      <td>2.0</td>\n",
       "      <td>2.0</td>\n",
       "      <td>NaN</td>\n",
       "      <td>NaN</td>\n",
       "      <td>NaN</td>\n",
       "      <td>NaN</td>\n",
       "      <td>NaN</td>\n",
       "      <td>2013</td>\n",
       "      <td>32269.589</td>\n",
       "    </tr>\n",
       "    <tr>\n",
       "      <th>3</th>\n",
       "      <td>Afghanistan</td>\n",
       "      <td>Ananas</td>\n",
       "      <td>vegetale</td>\n",
       "      <td>NaN</td>\n",
       "      <td>NaN</td>\n",
       "      <td>0.0</td>\n",
       "      <td>0.00</td>\n",
       "      <td>NaN</td>\n",
       "      <td>NaN</td>\n",
       "      <td>0.0</td>\n",
       "      <td>NaN</td>\n",
       "      <td>0.0</td>\n",
       "      <td>0.0</td>\n",
       "      <td>NaN</td>\n",
       "      <td>NaN</td>\n",
       "      <td>NaN</td>\n",
       "      <td>NaN</td>\n",
       "      <td>NaN</td>\n",
       "      <td>2013</td>\n",
       "      <td>32269.589</td>\n",
       "    </tr>\n",
       "    <tr>\n",
       "      <th>4</th>\n",
       "      <td>Afghanistan</td>\n",
       "      <td>Bananes</td>\n",
       "      <td>vegetale</td>\n",
       "      <td>NaN</td>\n",
       "      <td>NaN</td>\n",
       "      <td>4.0</td>\n",
       "      <td>2.70</td>\n",
       "      <td>0.02</td>\n",
       "      <td>0.05</td>\n",
       "      <td>82.0</td>\n",
       "      <td>NaN</td>\n",
       "      <td>82.0</td>\n",
       "      <td>82.0</td>\n",
       "      <td>NaN</td>\n",
       "      <td>NaN</td>\n",
       "      <td>NaN</td>\n",
       "      <td>NaN</td>\n",
       "      <td>NaN</td>\n",
       "      <td>2013</td>\n",
       "      <td>32269.589</td>\n",
       "    </tr>\n",
       "  </tbody>\n",
       "</table>\n",
       "</div>"
      ],
      "text/plain": [
       "          Zone                Produit   Origine  Aliments pour animaux  \\\n",
       "0  Afghanistan       Abats Comestible   animale                    NaN   \n",
       "1  Afghanistan        Agrumes, Autres  vegetale                    NaN   \n",
       "2  Afghanistan  Aliments pour enfants  vegetale                    NaN   \n",
       "3  Afghanistan                 Ananas  vegetale                    NaN   \n",
       "4  Afghanistan                Bananes  vegetale                    NaN   \n",
       "\n",
       "   Autres Utilisations  Disponibilité alimentaire (Kcal/personne/jour)  \\\n",
       "0                  NaN                                             5.0   \n",
       "1                  NaN                                             1.0   \n",
       "2                  NaN                                             1.0   \n",
       "3                  NaN                                             0.0   \n",
       "4                  NaN                                             4.0   \n",
       "\n",
       "   Disponibilité alimentaire en quantité (kg/personne/an)  \\\n",
       "0                                               1.72        \n",
       "1                                               1.29        \n",
       "2                                               0.06        \n",
       "3                                               0.00        \n",
       "4                                               2.70        \n",
       "\n",
       "   Disponibilité de matière grasse en quantité (g/personne/jour)  \\\n",
       "0                                               0.20               \n",
       "1                                               0.01               \n",
       "2                                               0.01               \n",
       "3                                                NaN               \n",
       "4                                               0.02               \n",
       "\n",
       "   Disponibilité de protéines en quantité (g/personne/jour)  \\\n",
       "0                                               0.77          \n",
       "1                                               0.02          \n",
       "2                                               0.03          \n",
       "3                                                NaN          \n",
       "4                                               0.05          \n",
       "\n",
       "   Disponibilité intérieure  Exportations - Quantité  Importations - Quantité  \\\n",
       "0                      53.0                      NaN                      NaN   \n",
       "1                      41.0                      2.0                     40.0   \n",
       "2                       2.0                      NaN                      2.0   \n",
       "3                       0.0                      NaN                      0.0   \n",
       "4                      82.0                      NaN                     82.0   \n",
       "\n",
       "   Nourriture  Pertes  Production  Semences  Traitement  Variation de stock  \\\n",
       "0        53.0     NaN        53.0       NaN         NaN                 NaN   \n",
       "1        39.0     2.0         3.0       NaN         NaN                 NaN   \n",
       "2         2.0     NaN         NaN       NaN         NaN                 NaN   \n",
       "3         0.0     NaN         NaN       NaN         NaN                 NaN   \n",
       "4        82.0     NaN         NaN       NaN         NaN                 NaN   \n",
       "\n",
       "   Année     Valeur  \n",
       "0   2013  32269.589  \n",
       "1   2013  32269.589  \n",
       "2   2013  32269.589  \n",
       "3   2013  32269.589  \n",
       "4   2013  32269.589  "
      ]
     },
     "execution_count": 74,
     "metadata": {},
     "output_type": "execute_result"
    }
   ],
   "source": [
    "#On merge les df_popu et df_nutri ensemble sur les colonnes 'Zone' et Année' dans une nouveau df appelé 'df_Pop_Nutri'\n",
    "df_Pop_Dispo = pd.merge(df_Dispo, df_Pop2013, how='inner', on='Zone')\n",
    "df_Pop_Dispo.head()"
   ]
  },
  {
   "cell_type": "code",
   "execution_count": 75,
   "id": "f0ea5ba1",
   "metadata": {
    "scrolled": true
   },
   "outputs": [],
   "source": [
    "# passage à la bonne unité ( à la personne), l'info est sur le doc pdf\"La population du pays, exprimée en milliers d’habitants.\" \n",
    "df_Pop_Dispo['NbPopulation'] = df_Pop_Dispo['Valeur']*1000\n"
   ]
  },
  {
   "cell_type": "code",
   "execution_count": 76,
   "id": "77ccfee4",
   "metadata": {},
   "outputs": [],
   "source": [
    "# Ajout de la colonne pour calculé le nombre total de calorie par ligne\n",
    "df_Pop_Dispo['Dispo_enKCA_parAn'] = df_Pop_Dispo['NbPopulation']*df_Pop_Dispo[\"Disponibilité alimentaire (Kcal/personne/jour)\"]\n"
   ]
  },
  {
   "cell_type": "code",
   "execution_count": 77,
   "id": "71e2d987",
   "metadata": {},
   "outputs": [],
   "source": [
    "#Filtre visuel pour avoir juste les infos dont nous avons besoin\n",
    "df_Pop_Dispo_TOUS = df_Pop_Dispo[['Zone','Dispo_enKCA_parAn']]"
   ]
  },
  {
   "cell_type": "code",
   "execution_count": 78,
   "id": "8736de4a",
   "metadata": {},
   "outputs": [
    {
     "data": {
      "text/html": [
       "<div>\n",
       "<style scoped>\n",
       "    .dataframe tbody tr th:only-of-type {\n",
       "        vertical-align: middle;\n",
       "    }\n",
       "\n",
       "    .dataframe tbody tr th {\n",
       "        vertical-align: top;\n",
       "    }\n",
       "\n",
       "    .dataframe thead th {\n",
       "        text-align: right;\n",
       "    }\n",
       "</style>\n",
       "<table border=\"1\" class=\"dataframe\">\n",
       "  <thead>\n",
       "    <tr style=\"text-align: right;\">\n",
       "      <th></th>\n",
       "      <th>Zone</th>\n",
       "      <th>Dispo_enKCA_parAn</th>\n",
       "    </tr>\n",
       "  </thead>\n",
       "  <tbody>\n",
       "    <tr>\n",
       "      <th>0</th>\n",
       "      <td>Afghanistan</td>\n",
       "      <td>161347945.0</td>\n",
       "    </tr>\n",
       "    <tr>\n",
       "      <th>1</th>\n",
       "      <td>Afghanistan</td>\n",
       "      <td>32269589.0</td>\n",
       "    </tr>\n",
       "    <tr>\n",
       "      <th>2</th>\n",
       "      <td>Afghanistan</td>\n",
       "      <td>32269589.0</td>\n",
       "    </tr>\n",
       "    <tr>\n",
       "      <th>3</th>\n",
       "      <td>Afghanistan</td>\n",
       "      <td>0.0</td>\n",
       "    </tr>\n",
       "    <tr>\n",
       "      <th>4</th>\n",
       "      <td>Afghanistan</td>\n",
       "      <td>129078356.0</td>\n",
       "    </tr>\n",
       "  </tbody>\n",
       "</table>\n",
       "</div>"
      ],
      "text/plain": [
       "          Zone  Dispo_enKCA_parAn\n",
       "0  Afghanistan        161347945.0\n",
       "1  Afghanistan         32269589.0\n",
       "2  Afghanistan         32269589.0\n",
       "3  Afghanistan                0.0\n",
       "4  Afghanistan        129078356.0"
      ]
     },
     "execution_count": 78,
     "metadata": {},
     "output_type": "execute_result"
    }
   ],
   "source": [
    "df_Pop_Dispo_TOUS.head(5)"
   ]
  },
  {
   "cell_type": "markdown",
   "id": "e49a9940",
   "metadata": {},
   "source": [
    "**Besoin en Kcal par jour et par personne => 2500kg**\n",
    "\n",
    "Nous avons besoin de la disponibilité alimentaire en kcal par personne et par jour\n",
    "puis multiplier par le **nombre de personne** afin d'avoir la dispo par pays et kcal par jour\n"
   ]
  },
  {
   "cell_type": "code",
   "execution_count": 79,
   "id": "a13a81fa",
   "metadata": {},
   "outputs": [],
   "source": [
    "#Calcul du nombre de Kcal dspo dans le monde entier\n",
    "#Divise le nb Kcal dispo pour le nombre de Kcal nécessaire par personne ( 2500Kcal par Jour et par personne)\n",
    "NbPersPouvantEtreNourri = df_Pop_Dispo_TOUS['Dispo_enKCA_parAn'].sum()/2500\n"
   ]
  },
  {
   "cell_type": "code",
   "execution_count": 80,
   "id": "774b21e8",
   "metadata": {},
   "outputs": [],
   "source": [
    "#Convertir en milliard pour rendre l'affichage plus lisible\n",
    "NbPersPouvantEtreNourriMilliard = round(NbPersPouvantEtreNourri/1000000000,3)"
   ]
  },
  {
   "cell_type": "code",
   "execution_count": 81,
   "id": "8d0c8fa1",
   "metadata": {},
   "outputs": [
    {
     "data": {
      "text/plain": [
       "7210845848.000001"
      ]
     },
     "execution_count": 81,
     "metadata": {},
     "output_type": "execute_result"
    }
   ],
   "source": [
    "#Calcul de la proportion en %\n",
    "ProportionPersNourrie=round((NbPersPouvantEtreNourri/NbPopulation2013)*100,2)\n",
    "NbPopulation2013"
   ]
  },
  {
   "cell_type": "markdown",
   "id": "ad3f708a",
   "metadata": {},
   "source": [
    "## Résultat"
   ]
  },
  {
   "cell_type": "code",
   "execution_count": 82,
   "id": "c60dbbcb",
   "metadata": {},
   "outputs": [
    {
     "name": "stdout",
     "output_type": "stream",
     "text": [
      "Le nombre théorique de personnes qui pourraient être nourries est de: 8.121 milliard d'habitants soit  112.62  % de la population mondiale en 2013\n"
     ]
    }
   ],
   "source": [
    "#On affiche le resutat => le nombre personnes qui pourraient etre nourries en théorie\n",
    "print(\"Le nombre théorique de personnes qui pourraient être nourries est de:\",NbPersPouvantEtreNourriMilliard,\n",
    "      \"milliard d'habitants soit \",ProportionPersNourrie,\" % de la population mondiale en 2013\")"
   ]
  },
  {
   "cell_type": "markdown",
   "id": "2b59cce1",
   "metadata": {},
   "source": [
    "# Question 2 BIS dispo alimentaire focus produits végétaux "
   ]
  },
  {
   "cell_type": "markdown",
   "id": "77070f43",
   "metadata": {},
   "source": [
    "**Question de Marc** : le nombre théorique de personnes qui pourraient être nourries. Tu devrais pouvoir calculer ça à partir de la disponibilité alimentaire mondiale avec un focus sur **la disponibilité alimentaire des produits végétaux**"
   ]
  },
  {
   "cell_type": "code",
   "execution_count": 83,
   "id": "2898f0dc",
   "metadata": {},
   "outputs": [
    {
     "data": {
      "text/html": [
       "<div>\n",
       "<style scoped>\n",
       "    .dataframe tbody tr th:only-of-type {\n",
       "        vertical-align: middle;\n",
       "    }\n",
       "\n",
       "    .dataframe tbody tr th {\n",
       "        vertical-align: top;\n",
       "    }\n",
       "\n",
       "    .dataframe thead th {\n",
       "        text-align: right;\n",
       "    }\n",
       "</style>\n",
       "<table border=\"1\" class=\"dataframe\">\n",
       "  <thead>\n",
       "    <tr style=\"text-align: right;\">\n",
       "      <th></th>\n",
       "      <th>Zone</th>\n",
       "      <th>Origine</th>\n",
       "      <th>Dispo_enKCA_parAn</th>\n",
       "      <th>NbPopulation</th>\n",
       "      <th>Disponibilité alimentaire (Kcal/personne/jour)</th>\n",
       "    </tr>\n",
       "  </thead>\n",
       "  <tbody>\n",
       "    <tr>\n",
       "      <th>0</th>\n",
       "      <td>Afghanistan</td>\n",
       "      <td>animale</td>\n",
       "      <td>161347945.0</td>\n",
       "      <td>32269589.0</td>\n",
       "      <td>5.0</td>\n",
       "    </tr>\n",
       "    <tr>\n",
       "      <th>1</th>\n",
       "      <td>Afghanistan</td>\n",
       "      <td>vegetale</td>\n",
       "      <td>32269589.0</td>\n",
       "      <td>32269589.0</td>\n",
       "      <td>1.0</td>\n",
       "    </tr>\n",
       "    <tr>\n",
       "      <th>2</th>\n",
       "      <td>Afghanistan</td>\n",
       "      <td>vegetale</td>\n",
       "      <td>32269589.0</td>\n",
       "      <td>32269589.0</td>\n",
       "      <td>1.0</td>\n",
       "    </tr>\n",
       "    <tr>\n",
       "      <th>3</th>\n",
       "      <td>Afghanistan</td>\n",
       "      <td>vegetale</td>\n",
       "      <td>0.0</td>\n",
       "      <td>32269589.0</td>\n",
       "      <td>0.0</td>\n",
       "    </tr>\n",
       "    <tr>\n",
       "      <th>4</th>\n",
       "      <td>Afghanistan</td>\n",
       "      <td>vegetale</td>\n",
       "      <td>129078356.0</td>\n",
       "      <td>32269589.0</td>\n",
       "      <td>4.0</td>\n",
       "    </tr>\n",
       "    <tr>\n",
       "      <th>...</th>\n",
       "      <td>...</td>\n",
       "      <td>...</td>\n",
       "      <td>...</td>\n",
       "      <td>...</td>\n",
       "      <td>...</td>\n",
       "    </tr>\n",
       "    <tr>\n",
       "      <th>15600</th>\n",
       "      <td>Îles Salomon</td>\n",
       "      <td>animale</td>\n",
       "      <td>25710120.0</td>\n",
       "      <td>571336.0</td>\n",
       "      <td>45.0</td>\n",
       "    </tr>\n",
       "    <tr>\n",
       "      <th>15601</th>\n",
       "      <td>Îles Salomon</td>\n",
       "      <td>animale</td>\n",
       "      <td>6284696.0</td>\n",
       "      <td>571336.0</td>\n",
       "      <td>11.0</td>\n",
       "    </tr>\n",
       "    <tr>\n",
       "      <th>15602</th>\n",
       "      <td>Îles Salomon</td>\n",
       "      <td>animale</td>\n",
       "      <td>0.0</td>\n",
       "      <td>571336.0</td>\n",
       "      <td>0.0</td>\n",
       "    </tr>\n",
       "    <tr>\n",
       "      <th>15603</th>\n",
       "      <td>Îles Salomon</td>\n",
       "      <td>vegetale</td>\n",
       "      <td>0.0</td>\n",
       "      <td>571336.0</td>\n",
       "      <td>0.0</td>\n",
       "    </tr>\n",
       "    <tr>\n",
       "      <th>15604</th>\n",
       "      <td>Îles Salomon</td>\n",
       "      <td>vegetale</td>\n",
       "      <td>2285344.0</td>\n",
       "      <td>571336.0</td>\n",
       "      <td>4.0</td>\n",
       "    </tr>\n",
       "  </tbody>\n",
       "</table>\n",
       "<p>15605 rows × 5 columns</p>\n",
       "</div>"
      ],
      "text/plain": [
       "               Zone   Origine  Dispo_enKCA_parAn  NbPopulation  \\\n",
       "0       Afghanistan   animale        161347945.0    32269589.0   \n",
       "1       Afghanistan  vegetale         32269589.0    32269589.0   \n",
       "2       Afghanistan  vegetale         32269589.0    32269589.0   \n",
       "3       Afghanistan  vegetale                0.0    32269589.0   \n",
       "4       Afghanistan  vegetale        129078356.0    32269589.0   \n",
       "...             ...       ...                ...           ...   \n",
       "15600  Îles Salomon   animale         25710120.0      571336.0   \n",
       "15601  Îles Salomon   animale          6284696.0      571336.0   \n",
       "15602  Îles Salomon   animale                0.0      571336.0   \n",
       "15603  Îles Salomon  vegetale                0.0      571336.0   \n",
       "15604  Îles Salomon  vegetale          2285344.0      571336.0   \n",
       "\n",
       "       Disponibilité alimentaire (Kcal/personne/jour)  \n",
       "0                                                 5.0  \n",
       "1                                                 1.0  \n",
       "2                                                 1.0  \n",
       "3                                                 0.0  \n",
       "4                                                 4.0  \n",
       "...                                               ...  \n",
       "15600                                            45.0  \n",
       "15601                                            11.0  \n",
       "15602                                             0.0  \n",
       "15603                                             0.0  \n",
       "15604                                             4.0  \n",
       "\n",
       "[15605 rows x 5 columns]"
      ]
     },
     "execution_count": 83,
     "metadata": {},
     "output_type": "execute_result"
    }
   ],
   "source": [
    "#création du DF avec moins de colonne\n",
    "df_Pop_Dispo_Vege = df_Pop_Dispo[['Zone','Origine','Dispo_enKCA_parAn','NbPopulation',\"Disponibilité alimentaire (Kcal/personne/jour)\"]]\n",
    "df_Pop_Dispo_Vege"
   ]
  },
  {
   "cell_type": "code",
   "execution_count": 84,
   "id": "f773fbbd",
   "metadata": {},
   "outputs": [
    {
     "data": {
      "text/html": [
       "<div>\n",
       "<style scoped>\n",
       "    .dataframe tbody tr th:only-of-type {\n",
       "        vertical-align: middle;\n",
       "    }\n",
       "\n",
       "    .dataframe tbody tr th {\n",
       "        vertical-align: top;\n",
       "    }\n",
       "\n",
       "    .dataframe thead th {\n",
       "        text-align: right;\n",
       "    }\n",
       "</style>\n",
       "<table border=\"1\" class=\"dataframe\">\n",
       "  <thead>\n",
       "    <tr style=\"text-align: right;\">\n",
       "      <th></th>\n",
       "      <th>Zone</th>\n",
       "      <th>Origine</th>\n",
       "      <th>Dispo_enKCA_parAn</th>\n",
       "      <th>NbPopulation</th>\n",
       "      <th>Disponibilité alimentaire (Kcal/personne/jour)</th>\n",
       "    </tr>\n",
       "  </thead>\n",
       "  <tbody>\n",
       "    <tr>\n",
       "      <th>1</th>\n",
       "      <td>Afghanistan</td>\n",
       "      <td>vegetale</td>\n",
       "      <td>32269589.0</td>\n",
       "      <td>32269589.0</td>\n",
       "      <td>1.0</td>\n",
       "    </tr>\n",
       "    <tr>\n",
       "      <th>2</th>\n",
       "      <td>Afghanistan</td>\n",
       "      <td>vegetale</td>\n",
       "      <td>32269589.0</td>\n",
       "      <td>32269589.0</td>\n",
       "      <td>1.0</td>\n",
       "    </tr>\n",
       "    <tr>\n",
       "      <th>3</th>\n",
       "      <td>Afghanistan</td>\n",
       "      <td>vegetale</td>\n",
       "      <td>0.0</td>\n",
       "      <td>32269589.0</td>\n",
       "      <td>0.0</td>\n",
       "    </tr>\n",
       "    <tr>\n",
       "      <th>4</th>\n",
       "      <td>Afghanistan</td>\n",
       "      <td>vegetale</td>\n",
       "      <td>129078356.0</td>\n",
       "      <td>32269589.0</td>\n",
       "      <td>4.0</td>\n",
       "    </tr>\n",
       "    <tr>\n",
       "      <th>6</th>\n",
       "      <td>Afghanistan</td>\n",
       "      <td>vegetale</td>\n",
       "      <td>0.0</td>\n",
       "      <td>32269589.0</td>\n",
       "      <td>0.0</td>\n",
       "    </tr>\n",
       "  </tbody>\n",
       "</table>\n",
       "</div>"
      ],
      "text/plain": [
       "          Zone   Origine  Dispo_enKCA_parAn  NbPopulation  \\\n",
       "1  Afghanistan  vegetale         32269589.0    32269589.0   \n",
       "2  Afghanistan  vegetale         32269589.0    32269589.0   \n",
       "3  Afghanistan  vegetale                0.0    32269589.0   \n",
       "4  Afghanistan  vegetale        129078356.0    32269589.0   \n",
       "6  Afghanistan  vegetale                0.0    32269589.0   \n",
       "\n",
       "   Disponibilité alimentaire (Kcal/personne/jour)  \n",
       "1                                             1.0  \n",
       "2                                             1.0  \n",
       "3                                             0.0  \n",
       "4                                             4.0  \n",
       "6                                             0.0  "
      ]
     },
     "execution_count": 84,
     "metadata": {},
     "output_type": "execute_result"
    }
   ],
   "source": [
    "#Focus sur le vegetal\n",
    "df_Pop_Dispo_Vege = df_Pop_Dispo_Vege.loc[(df_Pop_Dispo_Vege[\"Origine\"] == \"vegetale\")]\n",
    "df_Pop_Dispo_Vege.head(5)\n"
   ]
  },
  {
   "cell_type": "markdown",
   "id": "ac452ffd",
   "metadata": {},
   "source": [
    "## Résultat"
   ]
  },
  {
   "cell_type": "code",
   "execution_count": 85,
   "id": "a2d7a4dd",
   "metadata": {},
   "outputs": [
    {
     "name": "stdout",
     "output_type": "stream",
     "text": [
      "Le nombre théorique de personnes qui pourraient être nourries avec des produits végétaux est de: 6.676 milliard d'habitants soit  92.59  % de la population\n"
     ]
    }
   ],
   "source": [
    "#Calcul du nombre de Kcal dspo dans le monde entier\n",
    "#Divise le nb Kcal dispo pour le nombre de Kcal nécessaire par personne ( 2500Kcal par Jour et par personne)\n",
    "NbPersPouvantEtreNourrivege = df_Pop_Dispo_Vege['Dispo_enKCA_parAn'].sum()/2500\n",
    "\n",
    "#Convertir en millard pour rendre l'affichage plus lisible\n",
    "NbPersPouvantEtreNourriMilliardvege = round(NbPersPouvantEtreNourrivege/1000000000,3)\n",
    "\n",
    "#Calcul de la proportion en %\n",
    "ProportionPersNourrievege=round((NbPersPouvantEtreNourrivege/NbPopulation2013)*100,2)\n",
    "\n",
    "#On affiche le resutat => le nombre personnes qui pourraient etre nourries en théorie focus sur le produit végétaux\n",
    "print(\"Le nombre théorique de personnes qui pourraient être nourries avec des produits végétaux est de:\",NbPersPouvantEtreNourriMilliardvege,\n",
    "      \"milliard d'habitants soit \",ProportionPersNourrievege,\" % de la population\")"
   ]
  },
  {
   "cell_type": "markdown",
   "id": "af407b6f",
   "metadata": {},
   "source": [
    "# Question 3 : Disponibilité intérieur"
   ]
  },
  {
   "cell_type": "markdown",
   "id": "d71015e1",
   "metadata": {},
   "source": [
    "**Question de marc** : l’utilisation de la disponibilité intérieure,  en particulier la part qui est attribuée\n",
    "\n",
    "- Celle pour l’alimentation animale\n",
    "- celle qui est perdue \n",
    "- celle qui est concrètement utilisée pour l'alimentation humaine.\n",
    "\n",
    "Je crois que Julien avait trouvé un moyen de facilement calculer ces proportions."
   ]
  },
  {
   "cell_type": "markdown",
   "id": "a6806fab",
   "metadata": {},
   "source": [
    "**Analyse des données**\n",
    "Suite à la remarque de Julien : \n",
    "\n",
    "\"Il y a un lien logique entre l’ensemble des 10 variables exprimées en milliers de tonnes sur\n",
    "les utilisations de la disponibilité intérieure, qui peut s’exprimer avec une équation du type :\n",
    "A1 + A2 + … = disponibilité intérieure = B1 + B2 + …Mais je ne me souviens plus\n",
    "exactement ! Peux tu la retrouver ?\" **OUI** : \n",
    "\n",
    "Disponibilité intérieure = Production + (Importations - Quantité) - (Exportations - Quantité)++ Variation de stock \n",
    "\n",
    "Disponibilité intérieure = Nourriture\t+ Pertes\t+  Semences\t+ Traitement+ Aliments pour animaux + Autres Utilisations\n",
    "\n"
   ]
  },
  {
   "cell_type": "code",
   "execution_count": 86,
   "id": "82070721",
   "metadata": {
    "scrolled": true
   },
   "outputs": [
    {
     "data": {
      "text/html": [
       "<div>\n",
       "<style scoped>\n",
       "    .dataframe tbody tr th:only-of-type {\n",
       "        vertical-align: middle;\n",
       "    }\n",
       "\n",
       "    .dataframe tbody tr th {\n",
       "        vertical-align: top;\n",
       "    }\n",
       "\n",
       "    .dataframe thead th {\n",
       "        text-align: right;\n",
       "    }\n",
       "</style>\n",
       "<table border=\"1\" class=\"dataframe\">\n",
       "  <thead>\n",
       "    <tr style=\"text-align: right;\">\n",
       "      <th></th>\n",
       "      <th>Zone</th>\n",
       "      <th>Produit</th>\n",
       "      <th>Origine</th>\n",
       "      <th>Aliments pour animaux</th>\n",
       "      <th>Autres Utilisations</th>\n",
       "      <th>Disponibilité alimentaire (Kcal/personne/jour)</th>\n",
       "      <th>Disponibilité alimentaire en quantité (kg/personne/an)</th>\n",
       "      <th>Disponibilité de matière grasse en quantité (g/personne/jour)</th>\n",
       "      <th>Disponibilité de protéines en quantité (g/personne/jour)</th>\n",
       "      <th>Disponibilité intérieure</th>\n",
       "      <th>Exportations - Quantité</th>\n",
       "      <th>Importations - Quantité</th>\n",
       "      <th>Nourriture</th>\n",
       "      <th>Pertes</th>\n",
       "      <th>Production</th>\n",
       "      <th>Semences</th>\n",
       "      <th>Traitement</th>\n",
       "      <th>Variation de stock</th>\n",
       "    </tr>\n",
       "  </thead>\n",
       "  <tbody>\n",
       "    <tr>\n",
       "      <th>0</th>\n",
       "      <td>Afghanistan</td>\n",
       "      <td>Abats Comestible</td>\n",
       "      <td>animale</td>\n",
       "      <td>NaN</td>\n",
       "      <td>NaN</td>\n",
       "      <td>5.0</td>\n",
       "      <td>1.72</td>\n",
       "      <td>0.20</td>\n",
       "      <td>0.77</td>\n",
       "      <td>53.0</td>\n",
       "      <td>NaN</td>\n",
       "      <td>NaN</td>\n",
       "      <td>53.0</td>\n",
       "      <td>NaN</td>\n",
       "      <td>53.0</td>\n",
       "      <td>NaN</td>\n",
       "      <td>NaN</td>\n",
       "      <td>NaN</td>\n",
       "    </tr>\n",
       "    <tr>\n",
       "      <th>1</th>\n",
       "      <td>Afghanistan</td>\n",
       "      <td>Agrumes, Autres</td>\n",
       "      <td>vegetale</td>\n",
       "      <td>NaN</td>\n",
       "      <td>NaN</td>\n",
       "      <td>1.0</td>\n",
       "      <td>1.29</td>\n",
       "      <td>0.01</td>\n",
       "      <td>0.02</td>\n",
       "      <td>41.0</td>\n",
       "      <td>2.0</td>\n",
       "      <td>40.0</td>\n",
       "      <td>39.0</td>\n",
       "      <td>2.0</td>\n",
       "      <td>3.0</td>\n",
       "      <td>NaN</td>\n",
       "      <td>NaN</td>\n",
       "      <td>NaN</td>\n",
       "    </tr>\n",
       "  </tbody>\n",
       "</table>\n",
       "</div>"
      ],
      "text/plain": [
       "          Zone           Produit   Origine  Aliments pour animaux  \\\n",
       "0  Afghanistan  Abats Comestible   animale                    NaN   \n",
       "1  Afghanistan   Agrumes, Autres  vegetale                    NaN   \n",
       "\n",
       "   Autres Utilisations  Disponibilité alimentaire (Kcal/personne/jour)  \\\n",
       "0                  NaN                                             5.0   \n",
       "1                  NaN                                             1.0   \n",
       "\n",
       "   Disponibilité alimentaire en quantité (kg/personne/an)  \\\n",
       "0                                               1.72        \n",
       "1                                               1.29        \n",
       "\n",
       "   Disponibilité de matière grasse en quantité (g/personne/jour)  \\\n",
       "0                                               0.20               \n",
       "1                                               0.01               \n",
       "\n",
       "   Disponibilité de protéines en quantité (g/personne/jour)  \\\n",
       "0                                               0.77          \n",
       "1                                               0.02          \n",
       "\n",
       "   Disponibilité intérieure  Exportations - Quantité  Importations - Quantité  \\\n",
       "0                      53.0                      NaN                      NaN   \n",
       "1                      41.0                      2.0                     40.0   \n",
       "\n",
       "   Nourriture  Pertes  Production  Semences  Traitement  Variation de stock  \n",
       "0        53.0     NaN        53.0       NaN         NaN                 NaN  \n",
       "1        39.0     2.0         3.0       NaN         NaN                 NaN  "
      ]
     },
     "execution_count": 86,
     "metadata": {},
     "output_type": "execute_result"
    }
   ],
   "source": [
    "df_Dispo.head(2)"
   ]
  },
  {
   "cell_type": "code",
   "execution_count": 127,
   "id": "a96ae891",
   "metadata": {
    "scrolled": true
   },
   "outputs": [],
   "source": [
    "# Calcul des données demandées pour les proportions\n",
    "DispoInterieur = df_Dispo['Disponibilité intérieure'].sum()\n",
    "DispoNourriture = df_Dispo['Nourriture'].sum()\n",
    "DispoPertes = df_Dispo['Pertes'].sum()\n",
    "DispoAnimaux = df_Dispo['Aliments pour animaux'].sum()\n",
    "DispoVariation = df_Dispo['Variation de stock'].sum()\n",
    "DispoTraitement = df_Dispo['Semences'].sum()\n",
    "DispoSemences = df_Dispo['Traitement'].sum()\n",
    "DispoProduction = df_Dispo['Production'].sum()\n",
    "DispoAutresUtilisations = df_Dispo['Autres Utilisations'].sum()\n",
    "\n",
    "\n",
    "df_Dispo['Autres Sum'] = df_Dispo['Autres Utilisations']+ df_Dispo['Traitement']+df_Dispo['Semences']\n",
    "DispoAutres = df_Dispo['Autres Sum'].sum()\n"
   ]
  },
  {
   "cell_type": "markdown",
   "id": "06b2a819",
   "metadata": {},
   "source": [
    "## Résultat"
   ]
  },
  {
   "cell_type": "code",
   "execution_count": 130,
   "id": "6824ba35",
   "metadata": {},
   "outputs": [
    {
     "name": "stdout",
     "output_type": "stream",
     "text": [
      "La proportion de nourtiture est de  49.5 % \n",
      "La proportion de perte est de  4.6 % \n",
      "La proportion pour les animaux est de  13.2\n"
     ]
    }
   ],
   "source": [
    "# Calcul des proportions demandées :\n",
    "\n",
    "ProportionNourriture = round((DispoNourriture/DispoInterieur)*100, 1)\n",
    "ProportionPertes = round((DispoPertes/DispoInterieur)*100, 1)\n",
    "ProportionAnimaux = round((DispoAnimaux/DispoInterieur)*100, 1)\n",
    "\n",
    "print(\"La proportion de nourtiture est de \", ProportionNourriture, \"% \\nLa proportion de perte est de \",\n",
    "      ProportionPertes, \"% \\nLa proportion pour les animaux est de \", ProportionAnimaux)"
   ]
  },
  {
   "cell_type": "markdown",
   "id": "84806350",
   "metadata": {},
   "source": [
    "## Graphique"
   ]
  },
  {
   "cell_type": "code",
   "execution_count": 131,
   "id": "fa9c1fda",
   "metadata": {},
   "outputs": [
    {
     "data": {
      "text/plain": [
       "<function matplotlib.pyplot.show(close=None, block=None)>"
      ]
     },
     "execution_count": 131,
     "metadata": {},
     "output_type": "execute_result"
    },
    {
     "data": {
      "image/png": "[encoded data removed]",
      "text/plain": [
       "<Figure size 600x600 with 1 Axes>"
      ]
     },
     "metadata": {},
     "output_type": "display_data"
    }
   ],
   "source": [
    "# Réalisation d'un graphique afin d'afficher les informations plus clairement\n",
    "dfgrap = [DispoPertes, DispoAnimaux, DispoNourriture,\n",
    "          DispoTraitement, DispoSemences, DispoAutresUtilisations]\n",
    "plt.figure(figsize=(6, 6))\n",
    "plt.title(\"Répartition de la disponibilité intérieure en 2013\",\n",
    "          fontsize=20, fontweight='bold')\n",
    "plt.pie(dfgrap, labels=[\"DispoPertes\", \"DispoAnimaux\", \"DispoNourriture\",\n",
    "        \"DispoTraitement\", \"DispoSemences\", \"Dispo Autre utilisations\"], autopct=\"%1.1f%%\")\n",
    "plt.show"
   ]
  },
  {
   "cell_type": "markdown",
   "id": "327efe91",
   "metadata": {},
   "source": [
    "# Questions Julien"
   ]
  },
  {
   "cell_type": "markdown",
   "id": "8a0c2ba0",
   "metadata": {},
   "source": [
    "## Liste des céréales "
   ]
  },
  {
   "cell_type": "markdown",
   "id": "8e3a7c2e",
   "metadata": {},
   "source": [
    "Lors de mes recherches, j’ai découvert des chiffres intéressants sur l’utilisation des céréales,\n",
    "notamment la répartition entre l’alimentation humaine (colonne Nourriture) et l’alimentation\n",
    "pour animaux. La liste des céréales peut être trouvée en allant fouiller un peu dans l’onglet\n",
    "Bilans alimentaires, sur le lien juste ci-dessus. Peux-tu approfondir ce point ?\n"
   ]
  },
  {
   "cell_type": "markdown",
   "id": "ced71ec2",
   "metadata": {},
   "source": [
    "#Listes des cereale = 'Blé et produits','Céréales, Autres', 'Maïs et produits', 'Millet et produits','Orge et produits', 'Riz et produits', 'Avoine', 'Sorgho et produits', 'Seigle et produits'"
   ]
  },
  {
   "cell_type": "code",
   "execution_count": 93,
   "id": "4224f12c",
   "metadata": {},
   "outputs": [
    {
     "name": "stdout",
     "output_type": "stream",
     "text": [
      "0.6933506248526291 0.18130550970683015 0.12534386544054077\n"
     ]
    }
   ],
   "source": [
    "# Dispo cereale 2017\n",
    "\n",
    "liste_cereale2017 = ['Blé et produits', 'Céréales, Autres', 'Maïs et produits', 'Millet et produits',\n",
    "                     'Orge et produits', 'Riz et produits', 'Avoine', 'Sorgho et produits', 'Seigle et produits']\n",
    "\n",
    "df_cereale2017 = df_Dispo[df_Dispo[\"Produit\"].isin(\n",
    "    liste_cereale2017)].groupby(\"Zone\").sum().reset_index()\n",
    "\n",
    "PourcAnimal = df_cereale2017['Aliments pour animaux'].sum() / df_cereale2017[\"Disponibilité intérieure\"].sum()\n",
    "PourcNourriture = df_cereale2017['Nourriture'].sum() / df_cereale2017[\"Disponibilité intérieure\"].sum()\n",
    "PourcAutres = 1-(PourcCereales+PourcNourriture)\n",
    "\n",
    "print(PourcAnimal,PourcNourriture,PourcAutres)\n"
   ]
  },
  {
   "cell_type": "code",
   "execution_count": 94,
   "id": "d8856be2",
   "metadata": {},
   "outputs": [
    {
     "data": {
      "text/plain": [
       "<function matplotlib.pyplot.show(close=None, block=None)>"
      ]
     },
     "execution_count": 94,
     "metadata": {},
     "output_type": "execute_result"
    },
    {
     "data": {
      "image/png": "[encoded data removed]",
      "text/plain": [
       "<Figure size 600x600 with 1 Axes>"
      ]
     },
     "metadata": {},
     "output_type": "display_data"
    }
   ],
   "source": [
    "# Réalisation d'un graphique afin d'afficher les informations plus clairement\n",
    "dfgrap = [PourcCereales, PourcNourriture, PourcAutres]\n",
    "plt.figure(figsize=(6, 6))\n",
    "plt.title(\"Répartition des céréales 2017\",\n",
    "          fontsize=20, fontweight='bold')\n",
    "plt.pie(dfgrap, labels=['Animale','Humaine', 'Autre'], autopct=\"%1.1f%%\")\n",
    "plt.show"
   ]
  },
  {
   "cell_type": "markdown",
   "id": "bb6c15e1",
   "metadata": {},
   "source": [
    "### Graphique"
   ]
  },
  {
   "cell_type": "markdown",
   "id": "24d7e5ee",
   "metadata": {},
   "source": [
    "## Utilisation du manioc par la Thailande"
   ]
  },
  {
   "cell_type": "markdown",
   "id": "75d808ca",
   "metadata": {},
   "source": [
    "● Enfin, je me souviens d’un exemple étonnant d’utilisation du manioc par la Thaïlande aux\n",
    "égards de la proportion de personnes en sous-nutrition. De mémoire ça concernait\n",
    "l’exportation par rapport à la production… Peux-tu jeter un coup d’oeil et nous faire un retour\n",
    "?"
   ]
  },
  {
   "cell_type": "code",
   "execution_count": 95,
   "id": "c02fd1ff",
   "metadata": {},
   "outputs": [
    {
     "data": {
      "text/html": [
       "<div>\n",
       "<style scoped>\n",
       "    .dataframe tbody tr th:only-of-type {\n",
       "        vertical-align: middle;\n",
       "    }\n",
       "\n",
       "    .dataframe tbody tr th {\n",
       "        vertical-align: top;\n",
       "    }\n",
       "\n",
       "    .dataframe thead th {\n",
       "        text-align: right;\n",
       "    }\n",
       "</style>\n",
       "<table border=\"1\" class=\"dataframe\">\n",
       "  <thead>\n",
       "    <tr style=\"text-align: right;\">\n",
       "      <th></th>\n",
       "      <th>Zone</th>\n",
       "      <th>Produit</th>\n",
       "      <th>Origine</th>\n",
       "      <th>Aliments pour animaux</th>\n",
       "      <th>Autres Utilisations</th>\n",
       "      <th>Disponibilité alimentaire (Kcal/personne/jour)</th>\n",
       "      <th>Disponibilité alimentaire en quantité (kg/personne/an)</th>\n",
       "      <th>Disponibilité de matière grasse en quantité (g/personne/jour)</th>\n",
       "      <th>Disponibilité de protéines en quantité (g/personne/jour)</th>\n",
       "      <th>Disponibilité intérieure</th>\n",
       "      <th>Exportations - Quantité</th>\n",
       "      <th>Importations - Quantité</th>\n",
       "      <th>Nourriture</th>\n",
       "      <th>Pertes</th>\n",
       "      <th>Production</th>\n",
       "      <th>Semences</th>\n",
       "      <th>Traitement</th>\n",
       "      <th>Variation de stock</th>\n",
       "      <th>Autres Sum</th>\n",
       "    </tr>\n",
       "  </thead>\n",
       "  <tbody>\n",
       "    <tr>\n",
       "      <th>13809</th>\n",
       "      <td>Thaïlande</td>\n",
       "      <td>Manioc</td>\n",
       "      <td>vegetale</td>\n",
       "      <td>1800.0</td>\n",
       "      <td>2081.0</td>\n",
       "      <td>40.0</td>\n",
       "      <td>13.0</td>\n",
       "      <td>0.05</td>\n",
       "      <td>0.14</td>\n",
       "      <td>6264.0</td>\n",
       "      <td>25214.0</td>\n",
       "      <td>1250.0</td>\n",
       "      <td>871.0</td>\n",
       "      <td>1511.0</td>\n",
       "      <td>30228.0</td>\n",
       "      <td>NaN</td>\n",
       "      <td>0.0</td>\n",
       "      <td>0.0</td>\n",
       "      <td>NaN</td>\n",
       "    </tr>\n",
       "  </tbody>\n",
       "</table>\n",
       "</div>"
      ],
      "text/plain": [
       "            Zone Produit   Origine  Aliments pour animaux  \\\n",
       "13809  Thaïlande  Manioc  vegetale                 1800.0   \n",
       "\n",
       "       Autres Utilisations  Disponibilité alimentaire (Kcal/personne/jour)  \\\n",
       "13809               2081.0                                            40.0   \n",
       "\n",
       "       Disponibilité alimentaire en quantité (kg/personne/an)  \\\n",
       "13809                                               13.0        \n",
       "\n",
       "       Disponibilité de matière grasse en quantité (g/personne/jour)  \\\n",
       "13809                                               0.05               \n",
       "\n",
       "       Disponibilité de protéines en quantité (g/personne/jour)  \\\n",
       "13809                                               0.14          \n",
       "\n",
       "       Disponibilité intérieure  Exportations - Quantité  \\\n",
       "13809                    6264.0                  25214.0   \n",
       "\n",
       "       Importations - Quantité  Nourriture  Pertes  Production  Semences  \\\n",
       "13809                   1250.0       871.0  1511.0     30228.0       NaN   \n",
       "\n",
       "       Traitement  Variation de stock  Autres Sum  \n",
       "13809         0.0                 0.0         NaN  "
      ]
     },
     "execution_count": 95,
     "metadata": {},
     "output_type": "execute_result"
    }
   ],
   "source": [
    "#Filtre sur le manioc et la pays Thaïlande\n",
    "df_Dispo_Thailande = df_Dispo.loc[(df_Dispo['Produit'] =='Manioc') & (df_Dispo['Zone'] =='Thaïlande')]\n",
    "df_Dispo_Thailande"
   ]
  },
  {
   "cell_type": "code",
   "execution_count": 96,
   "id": "8087e14c",
   "metadata": {},
   "outputs": [
    {
     "name": "stdout",
     "output_type": "stream",
     "text": [
      "La proportion d'export de Manioc en Thailande est de  83.41 %\n"
     ]
    }
   ],
   "source": [
    "#Exportations - Quantité Production\n",
    "ProportionExport = round((df_Dispo_Thailande['Exportations - Quantité'].sum() / df_Dispo_Thailande['Production'].sum())*100,2)\n",
    "print(\"La proportion d'export de Manioc en Thailande est de \",ProportionExport,\"%\")"
   ]
  },
  {
   "cell_type": "code",
   "execution_count": 97,
   "id": "5b1dc045",
   "metadata": {},
   "outputs": [
    {
     "data": {
      "text/plain": [
       "69209.81"
      ]
     },
     "execution_count": 97,
     "metadata": {},
     "output_type": "execute_result"
    }
   ],
   "source": [
    "#Population de la Thailande\n",
    "#Filtre sur le pays et l'année\n",
    "#Il y a déjà des DF avec le filtre date => à revoir\n",
    "df_population_Thailande = df_Population.loc[(df_Population['Année'] ==2017) & (df_Population['Zone'] =='Thaïlande')]\n",
    "Pop_Thailande = df_population_Thailande['Valeur'].sum()\n",
    "Pop_Thailande"
   ]
  },
  {
   "cell_type": "code",
   "execution_count": 98,
   "id": "c34ba442",
   "metadata": {},
   "outputs": [
    {
     "data": {
      "text/plain": [
       "6200.0"
      ]
     },
     "execution_count": 98,
     "metadata": {},
     "output_type": "execute_result"
    }
   ],
   "source": [
    "#SousNutrition en Thailande\n",
    "#Filtre sur le pays et l'année\n",
    "df_SousNutri_Thailande = df_SousNutri.loc[(df_SousNutri['Année'] ==2017) & (df_SousNutri['Zone'] =='Thaïlande')]\n",
    "SousNutri_Thailande = df_SousNutri_Thailande['Valeur'].sum()\n",
    "SousNutri_Thailande\n"
   ]
  },
  {
   "cell_type": "code",
   "execution_count": 99,
   "id": "a3d1647c",
   "metadata": {},
   "outputs": [
    {
     "name": "stdout",
     "output_type": "stream",
     "text": [
      "La proportion de personne en sous nutrition en Thailande est de  8.96 %\n"
     ]
    }
   ],
   "source": [
    "ProportionThailande = round(SousNutri_Thailande/Pop_Thailande*100,2)\n",
    "print(\"La proportion de personne en sous nutrition en Thailande est de \",ProportionThailande,\"%\")"
   ]
  },
  {
   "cell_type": "markdown",
   "id": "1b797c6f",
   "metadata": {},
   "source": [
    "# Questions de Mélanie"
   ]
  },
  {
   "cell_type": "markdown",
   "id": "df2789bc",
   "metadata": {},
   "source": [
    "## les pays pour lesquels la proportion de personnes sous-alimentées est la plus forte en 2017  "
   ]
  },
  {
   "cell_type": "markdown",
   "id": "06cbcdda",
   "metadata": {},
   "source": [
    "Création du jeu de données pour faire le graphique\n"
   ]
  },
  {
   "cell_type": "code",
   "execution_count": 132,
   "id": "b2597158",
   "metadata": {},
   "outputs": [
    {
     "data": {
      "text/html": [
       "<div>\n",
       "<style scoped>\n",
       "    .dataframe tbody tr th:only-of-type {\n",
       "        vertical-align: middle;\n",
       "    }\n",
       "\n",
       "    .dataframe tbody tr th {\n",
       "        vertical-align: top;\n",
       "    }\n",
       "\n",
       "    .dataframe thead th {\n",
       "        text-align: right;\n",
       "    }\n",
       "</style>\n",
       "<table border=\"1\" class=\"dataframe\">\n",
       "  <thead>\n",
       "    <tr style=\"text-align: right;\">\n",
       "      <th></th>\n",
       "      <th>Zone</th>\n",
       "      <th>Année</th>\n",
       "      <th>Valeur_Population</th>\n",
       "      <th>Valeur_SousNutri</th>\n",
       "      <th>Proportion</th>\n",
       "    </tr>\n",
       "  </thead>\n",
       "  <tbody>\n",
       "    <tr>\n",
       "      <th>472</th>\n",
       "      <td>Haïti</td>\n",
       "      <td>2017</td>\n",
       "      <td>10982.366</td>\n",
       "      <td>5300.0</td>\n",
       "      <td>48.26</td>\n",
       "    </tr>\n",
       "    <tr>\n",
       "      <th>946</th>\n",
       "      <td>République populaire démocratique de Corée</td>\n",
       "      <td>2017</td>\n",
       "      <td>25429.825</td>\n",
       "      <td>12000.0</td>\n",
       "      <td>47.19</td>\n",
       "    </tr>\n",
       "    <tr>\n",
       "      <th>652</th>\n",
       "      <td>Madagascar</td>\n",
       "      <td>2017</td>\n",
       "      <td>25570.512</td>\n",
       "      <td>10500.0</td>\n",
       "      <td>41.06</td>\n",
       "    </tr>\n",
       "    <tr>\n",
       "      <th>622</th>\n",
       "      <td>Libéria</td>\n",
       "      <td>2017</td>\n",
       "      <td>4702.226</td>\n",
       "      <td>1800.0</td>\n",
       "      <td>38.28</td>\n",
       "    </tr>\n",
       "    <tr>\n",
       "      <th>604</th>\n",
       "      <td>Lesotho</td>\n",
       "      <td>2017</td>\n",
       "      <td>2091.534</td>\n",
       "      <td>800.0</td>\n",
       "      <td>38.25</td>\n",
       "    </tr>\n",
       "    <tr>\n",
       "      <th>...</th>\n",
       "      <td>...</td>\n",
       "      <td>...</td>\n",
       "      <td>...</td>\n",
       "      <td>...</td>\n",
       "      <td>...</td>\n",
       "    </tr>\n",
       "    <tr>\n",
       "      <th>1180</th>\n",
       "      <td>Uruguay</td>\n",
       "      <td>2017</td>\n",
       "      <td>3436.641</td>\n",
       "      <td>NaN</td>\n",
       "      <td>NaN</td>\n",
       "    </tr>\n",
       "    <tr>\n",
       "      <th>1186</th>\n",
       "      <td>Vanuatu</td>\n",
       "      <td>2017</td>\n",
       "      <td>285.510</td>\n",
       "      <td>NaN</td>\n",
       "      <td>NaN</td>\n",
       "    </tr>\n",
       "    <tr>\n",
       "      <th>1204</th>\n",
       "      <td>Yémen</td>\n",
       "      <td>2017</td>\n",
       "      <td>27834.819</td>\n",
       "      <td>NaN</td>\n",
       "      <td>NaN</td>\n",
       "    </tr>\n",
       "    <tr>\n",
       "      <th>1210</th>\n",
       "      <td>Zambie</td>\n",
       "      <td>2017</td>\n",
       "      <td>16853.599</td>\n",
       "      <td>NaN</td>\n",
       "      <td>NaN</td>\n",
       "    </tr>\n",
       "    <tr>\n",
       "      <th>1216</th>\n",
       "      <td>Zimbabwe</td>\n",
       "      <td>2017</td>\n",
       "      <td>14236.595</td>\n",
       "      <td>NaN</td>\n",
       "      <td>NaN</td>\n",
       "    </tr>\n",
       "  </tbody>\n",
       "</table>\n",
       "<p>203 rows × 5 columns</p>\n",
       "</div>"
      ],
      "text/plain": [
       "                                            Zone  Année  Valeur_Population  \\\n",
       "472                                        Haïti   2017          10982.366   \n",
       "946   République populaire démocratique de Corée   2017          25429.825   \n",
       "652                                   Madagascar   2017          25570.512   \n",
       "622                                      Libéria   2017           4702.226   \n",
       "604                                      Lesotho   2017           2091.534   \n",
       "...                                          ...    ...                ...   \n",
       "1180                                     Uruguay   2017           3436.641   \n",
       "1186                                     Vanuatu   2017            285.510   \n",
       "1204                                       Yémen   2017          27834.819   \n",
       "1210                                      Zambie   2017          16853.599   \n",
       "1216                                    Zimbabwe   2017          14236.595   \n",
       "\n",
       "      Valeur_SousNutri  Proportion  \n",
       "472             5300.0       48.26  \n",
       "946            12000.0       47.19  \n",
       "652            10500.0       41.06  \n",
       "622             1800.0       38.28  \n",
       "604              800.0       38.25  \n",
       "...                ...         ...  \n",
       "1180               NaN         NaN  \n",
       "1186               NaN         NaN  \n",
       "1204               NaN         NaN  \n",
       "1210               NaN         NaN  \n",
       "1216               NaN         NaN  \n",
       "\n",
       "[203 rows x 5 columns]"
      ]
     },
     "execution_count": 132,
     "metadata": {},
     "output_type": "execute_result"
    }
   ],
   "source": [
    "#Copy du data frame df_Pop_Nutri2017\n",
    "Graph_SousNitrition = df_Pop_Nutri2017.copy()\n",
    "\n",
    "# Ajout de la colonne proportion\n",
    "Graph_SousNitrition['Proportion'] = round(Graph_SousNitrition['Valeur_SousNutri']/Graph_SousNitrition[\"Valeur_Population\"]*100,2)\n",
    "Graph_SousNitrition=Graph_SousNitrition.sort_values(by = 'Proportion', ascending = False)\n",
    "Graph_SousNitrition"
   ]
  },
  {
   "cell_type": "code",
   "execution_count": 126,
   "id": "b46498da",
   "metadata": {},
   "outputs": [],
   "source": [
    "#extrait des données sut Excell\n",
    "df_Pop_Nutri2017.to_excel('SOUS_Nutrition.xlsx', index=False)\n"
   ]
  },
  {
   "cell_type": "code",
   "execution_count": 134,
   "id": "5cd37375",
   "metadata": {},
   "outputs": [
    {
     "data": {
      "text/plain": [
       "<function matplotlib.pyplot.show(close=None, block=None)>"
      ]
     },
     "execution_count": 134,
     "metadata": {},
     "output_type": "execute_result"
    },
    {
     "data": {
      "image/png": "[encoded data removed]",
      "text/plain": [
       "<Figure size 1000x800 with 1 Axes>"
      ]
     },
     "metadata": {},
     "output_type": "display_data"
    }
   ],
   "source": [
    "#Pour avoir le top 10\n",
    "Graph_SousNitrition = Graph_SousNitrition.head(10)\n",
    "\n",
    "# essai avec SeaBorn\n",
    "# Plot the total crashes\n",
    "# Initialize the matplotlib figure\n",
    "plt.subplots(figsize=(10, 8))\n",
    "plt.title(\"Proportion de personnes sous-alimentées par pays en 2017 - \\nTOP 10\",fontsize=20,fontweight='bold')\n",
    "sns.set_color_codes(\"pastel\")\n",
    "sns.set_theme(style=\"whitegrid\")\n",
    "\n",
    "sns.barplot(x=\"Proportion\", y=\"Zone\", data=Graph_SousNitrition)\n",
    "plt.show\n"
   ]
  },
  {
   "cell_type": "code",
   "execution_count": null,
   "id": "6ae1c8e4",
   "metadata": {},
   "outputs": [],
   "source": []
  },
  {
   "cell_type": "markdown",
   "id": "f3a4c29f",
   "metadata": {},
   "source": [
    "## les pays pour lesquels la proportion de ceux qui ont le plus bénéficié d’aide depuis 2013 \n",
    " "
   ]
  },
  {
   "cell_type": "code",
   "execution_count": 124,
   "id": "50099efe",
   "metadata": {},
   "outputs": [
    {
     "data": {
      "text/html": [
       "<div>\n",
       "<style scoped>\n",
       "    .dataframe tbody tr th:only-of-type {\n",
       "        vertical-align: middle;\n",
       "    }\n",
       "\n",
       "    .dataframe tbody tr th {\n",
       "        vertical-align: top;\n",
       "    }\n",
       "\n",
       "    .dataframe thead th {\n",
       "        text-align: right;\n",
       "    }\n",
       "</style>\n",
       "<table border=\"1\" class=\"dataframe\">\n",
       "  <thead>\n",
       "    <tr style=\"text-align: right;\">\n",
       "      <th></th>\n",
       "      <th>Zone</th>\n",
       "      <th>Valeur</th>\n",
       "    </tr>\n",
       "  </thead>\n",
       "  <tbody>\n",
       "    <tr>\n",
       "      <th>0</th>\n",
       "      <td>République arabe syrienne</td>\n",
       "      <td>1858943</td>\n",
       "    </tr>\n",
       "    <tr>\n",
       "      <th>1</th>\n",
       "      <td>Éthiopie</td>\n",
       "      <td>1381294</td>\n",
       "    </tr>\n",
       "    <tr>\n",
       "      <th>2</th>\n",
       "      <td>Yémen</td>\n",
       "      <td>1206484</td>\n",
       "    </tr>\n",
       "    <tr>\n",
       "      <th>3</th>\n",
       "      <td>Soudan du Sud</td>\n",
       "      <td>695248</td>\n",
       "    </tr>\n",
       "    <tr>\n",
       "      <th>4</th>\n",
       "      <td>Soudan</td>\n",
       "      <td>669784</td>\n",
       "    </tr>\n",
       "    <tr>\n",
       "      <th>5</th>\n",
       "      <td>Kenya</td>\n",
       "      <td>552836</td>\n",
       "    </tr>\n",
       "    <tr>\n",
       "      <th>6</th>\n",
       "      <td>Bangladesh</td>\n",
       "      <td>348188</td>\n",
       "    </tr>\n",
       "    <tr>\n",
       "      <th>7</th>\n",
       "      <td>Somalie</td>\n",
       "      <td>292678</td>\n",
       "    </tr>\n",
       "    <tr>\n",
       "      <th>8</th>\n",
       "      <td>République démocratique du Congo</td>\n",
       "      <td>288502</td>\n",
       "    </tr>\n",
       "    <tr>\n",
       "      <th>9</th>\n",
       "      <td>Niger</td>\n",
       "      <td>276344</td>\n",
       "    </tr>\n",
       "  </tbody>\n",
       "</table>\n",
       "</div>"
      ],
      "text/plain": [
       "                               Zone   Valeur\n",
       "0         République arabe syrienne  1858943\n",
       "1                          Éthiopie  1381294\n",
       "2                             Yémen  1206484\n",
       "3                     Soudan du Sud   695248\n",
       "4                            Soudan   669784\n",
       "5                             Kenya   552836\n",
       "6                        Bangladesh   348188\n",
       "7                           Somalie   292678\n",
       "8  République démocratique du Congo   288502\n",
       "9                             Niger   276344"
      ]
     },
     "execution_count": 124,
     "metadata": {},
     "output_type": "execute_result"
    }
   ],
   "source": [
    "#Création du DF avec les colonnes souhaitées\n",
    "df_Aide_focus = df_Aide[['Zone','Valeur']]\n",
    "#Groupby Pays\n",
    "df_Aide_focus = df_Aide_focus.groupby('Zone').sum()\n",
    "#Trié par le plus petit puis filtre sur le top 10\n",
    "df_Aide_focus = df_Aide_focus.sort_values(by=['Valeur'],ascending=False)\n",
    "df_Aide_focus = df_Aide_focus.head(10).reset_index()\n",
    "\n",
    "df_Aide_focus"
   ]
  },
  {
   "cell_type": "code",
   "execution_count": 125,
   "id": "3601a9bd",
   "metadata": {
    "scrolled": true
   },
   "outputs": [
    {
     "data": {
      "text/plain": [
       "<AxesSubplot:title={'center':\"Pays qui a bénéficié du plus d'aide depuis 2013 - \\nTOP 15\"}, xlabel='Valeur', ylabel='Zone'>"
      ]
     },
     "execution_count": 125,
     "metadata": {},
     "output_type": "execute_result"
    },
    {
     "data": {
      "image/png": "[encoded data removed]",
      "text/plain": [
       "<Figure size 1000x800 with 1 Axes>"
      ]
     },
     "metadata": {},
     "output_type": "display_data"
    }
   ],
   "source": [
    "# Créatio du graphique\n",
    "\n",
    "plt.figure(figsize=(10, 8))\n",
    "plt.title(\"Pays qui a bénéficié du plus d'aide depuis 2013 - \\nTOP 15\",fontsize=20,fontweight='bold')\n",
    "sns.set_color_codes(\"pastel\")\n",
    "sns.set_theme(style=\"whitegrid\")\n",
    "sns.barplot(x=\"Valeur\", y=\"Zone\", data=df_Aide_focus)\n",
    "\n"
   ]
  },
  {
   "cell_type": "code",
   "execution_count": 120,
   "id": "c818f18c",
   "metadata": {},
   "outputs": [],
   "source": [
    "# export excel\n",
    "df_Aide_focus.to_excel('AIDE.xlsx', index=False)\n",
    "# view files"
   ]
  },
  {
   "cell_type": "code",
   "execution_count": null,
   "id": "e2d0a5ca",
   "metadata": {},
   "outputs": [],
   "source": []
  },
  {
   "cell_type": "markdown",
   "id": "dc73b527",
   "metadata": {},
   "source": [
    "## les pays ayant le plus disponibilité/habitant\n",
    " "
   ]
  },
  {
   "cell_type": "markdown",
   "id": "ba23f736",
   "metadata": {},
   "source": [
    "ceux ayant le plus/le moins de disponibilité/habitant, etc., et toutes les infos que tu trouverais utiles pour mettre en relief les pays qui semblent être le plus en difficulté, au niveau alimentaire."
   ]
  },
  {
   "cell_type": "code",
   "execution_count": 106,
   "id": "50989a7e",
   "metadata": {
    "scrolled": true
   },
   "outputs": [
    {
     "data": {
      "text/html": [
       "<div>\n",
       "<style scoped>\n",
       "    .dataframe tbody tr th:only-of-type {\n",
       "        vertical-align: middle;\n",
       "    }\n",
       "\n",
       "    .dataframe tbody tr th {\n",
       "        vertical-align: top;\n",
       "    }\n",
       "\n",
       "    .dataframe thead th {\n",
       "        text-align: right;\n",
       "    }\n",
       "</style>\n",
       "<table border=\"1\" class=\"dataframe\">\n",
       "  <thead>\n",
       "    <tr style=\"text-align: right;\">\n",
       "      <th></th>\n",
       "      <th>Zone</th>\n",
       "      <th>Disponibilité alimentaire (Kcal/personne/jour)</th>\n",
       "    </tr>\n",
       "  </thead>\n",
       "  <tbody>\n",
       "    <tr>\n",
       "      <th>0</th>\n",
       "      <td>Autriche</td>\n",
       "      <td>3770.0</td>\n",
       "    </tr>\n",
       "    <tr>\n",
       "      <th>1</th>\n",
       "      <td>Belgique</td>\n",
       "      <td>3737.0</td>\n",
       "    </tr>\n",
       "    <tr>\n",
       "      <th>2</th>\n",
       "      <td>Turquie</td>\n",
       "      <td>3708.0</td>\n",
       "    </tr>\n",
       "    <tr>\n",
       "      <th>3</th>\n",
       "      <td>États-Unis d'Amérique</td>\n",
       "      <td>3682.0</td>\n",
       "    </tr>\n",
       "    <tr>\n",
       "      <th>4</th>\n",
       "      <td>Israël</td>\n",
       "      <td>3610.0</td>\n",
       "    </tr>\n",
       "    <tr>\n",
       "      <th>5</th>\n",
       "      <td>Irlande</td>\n",
       "      <td>3602.0</td>\n",
       "    </tr>\n",
       "    <tr>\n",
       "      <th>6</th>\n",
       "      <td>Italie</td>\n",
       "      <td>3578.0</td>\n",
       "    </tr>\n",
       "    <tr>\n",
       "      <th>7</th>\n",
       "      <td>Luxembourg</td>\n",
       "      <td>3540.0</td>\n",
       "    </tr>\n",
       "    <tr>\n",
       "      <th>8</th>\n",
       "      <td>Égypte</td>\n",
       "      <td>3518.0</td>\n",
       "    </tr>\n",
       "    <tr>\n",
       "      <th>9</th>\n",
       "      <td>Allemagne</td>\n",
       "      <td>3503.0</td>\n",
       "    </tr>\n",
       "  </tbody>\n",
       "</table>\n",
       "</div>"
      ],
      "text/plain": [
       "                    Zone  Disponibilité alimentaire (Kcal/personne/jour)\n",
       "0               Autriche                                          3770.0\n",
       "1               Belgique                                          3737.0\n",
       "2                Turquie                                          3708.0\n",
       "3  États-Unis d'Amérique                                          3682.0\n",
       "4                 Israël                                          3610.0\n",
       "5                Irlande                                          3602.0\n",
       "6                 Italie                                          3578.0\n",
       "7             Luxembourg                                          3540.0\n",
       "8                 Égypte                                          3518.0\n",
       "9              Allemagne                                          3503.0"
      ]
     },
     "execution_count": 106,
     "metadata": {},
     "output_type": "execute_result"
    }
   ],
   "source": [
    "# Création du DF avec les colonnes souhaitées\n",
    "df_dispo_focus_plus = df_Pop_Dispo[['Zone', 'Disponibilité alimentaire (Kcal/personne/jour)']]\n",
    "# Groupby Pays\n",
    "df_dispo_focus_plus = df_dispo_focus_plus.groupby('Zone').sum()\n",
    "# Trié par le plus grand puis filtre sur le top 10\n",
    "df_dispo_focus_plus = df_dispo_focus_plus.sort_values(by=['Disponibilité alimentaire (Kcal/personne/jour)'], ascending=False)\n",
    "df_dispo_focus_plus = df_dispo_focus_plus.head(10).reset_index()\n",
    "df_dispo_focus_plus"
   ]
  },
  {
   "cell_type": "code",
   "execution_count": 107,
   "id": "e31f594d",
   "metadata": {},
   "outputs": [
    {
     "data": {
      "text/plain": [
       "<AxesSubplot:title={'center':'Les pays ayant le PLUS de disponibilité par habitant'}, xlabel='Disponibilité alimentaire (Kcal/personne/jour)', ylabel='Zone'>"
      ]
     },
     "execution_count": 107,
     "metadata": {},
     "output_type": "execute_result"
    },
    {
     "data": {
      "image/png": "[encoded data removed]",
      "text/plain": [
       "<Figure size 1200x800 with 1 Axes>"
      ]
     },
     "metadata": {},
     "output_type": "display_data"
    }
   ],
   "source": [
    "#Création du graphique\n",
    "plt.figure(figsize=(12,8))\n",
    "plt.title(\"Les pays ayant le PLUS de disponibilité par habitant\",fontsize=15,fontweight='bold')\n",
    "sns.barplot(x=\"Disponibilité alimentaire (Kcal/personne/jour)\", y=\"Zone\", data=df_dispo_focus_plus)"
   ]
  },
  {
   "cell_type": "markdown",
   "id": "8602f306",
   "metadata": {},
   "source": [
    "## les pays ayant le MOINS disponibilité/habitant"
   ]
  },
  {
   "cell_type": "code",
   "execution_count": 135,
   "id": "001fa52e",
   "metadata": {},
   "outputs": [
    {
     "data": {
      "text/html": [
       "<div>\n",
       "<style scoped>\n",
       "    .dataframe tbody tr th:only-of-type {\n",
       "        vertical-align: middle;\n",
       "    }\n",
       "\n",
       "    .dataframe tbody tr th {\n",
       "        vertical-align: top;\n",
       "    }\n",
       "\n",
       "    .dataframe thead th {\n",
       "        text-align: right;\n",
       "    }\n",
       "</style>\n",
       "<table border=\"1\" class=\"dataframe\">\n",
       "  <thead>\n",
       "    <tr style=\"text-align: right;\">\n",
       "      <th></th>\n",
       "      <th>Zone</th>\n",
       "      <th>Disponibilité alimentaire (Kcal/personne/jour)</th>\n",
       "    </tr>\n",
       "  </thead>\n",
       "  <tbody>\n",
       "    <tr>\n",
       "      <th>0</th>\n",
       "      <td>République centrafricaine</td>\n",
       "      <td>1879.0</td>\n",
       "    </tr>\n",
       "    <tr>\n",
       "      <th>1</th>\n",
       "      <td>Zambie</td>\n",
       "      <td>1924.0</td>\n",
       "    </tr>\n",
       "    <tr>\n",
       "      <th>2</th>\n",
       "      <td>Madagascar</td>\n",
       "      <td>2056.0</td>\n",
       "    </tr>\n",
       "    <tr>\n",
       "      <th>3</th>\n",
       "      <td>Afghanistan</td>\n",
       "      <td>2087.0</td>\n",
       "    </tr>\n",
       "    <tr>\n",
       "      <th>4</th>\n",
       "      <td>Haïti</td>\n",
       "      <td>2089.0</td>\n",
       "    </tr>\n",
       "    <tr>\n",
       "      <th>5</th>\n",
       "      <td>République populaire démocratique de Corée</td>\n",
       "      <td>2093.0</td>\n",
       "    </tr>\n",
       "    <tr>\n",
       "      <th>6</th>\n",
       "      <td>Tchad</td>\n",
       "      <td>2109.0</td>\n",
       "    </tr>\n",
       "    <tr>\n",
       "      <th>7</th>\n",
       "      <td>Zimbabwe</td>\n",
       "      <td>2113.0</td>\n",
       "    </tr>\n",
       "    <tr>\n",
       "      <th>8</th>\n",
       "      <td>Ouganda</td>\n",
       "      <td>2126.0</td>\n",
       "    </tr>\n",
       "    <tr>\n",
       "      <th>9</th>\n",
       "      <td>Timor-Leste</td>\n",
       "      <td>2129.0</td>\n",
       "    </tr>\n",
       "  </tbody>\n",
       "</table>\n",
       "</div>"
      ],
      "text/plain": [
       "                                         Zone  \\\n",
       "0                   République centrafricaine   \n",
       "1                                      Zambie   \n",
       "2                                  Madagascar   \n",
       "3                                 Afghanistan   \n",
       "4                                       Haïti   \n",
       "5  République populaire démocratique de Corée   \n",
       "6                                       Tchad   \n",
       "7                                    Zimbabwe   \n",
       "8                                     Ouganda   \n",
       "9                                 Timor-Leste   \n",
       "\n",
       "   Disponibilité alimentaire (Kcal/personne/jour)  \n",
       "0                                          1879.0  \n",
       "1                                          1924.0  \n",
       "2                                          2056.0  \n",
       "3                                          2087.0  \n",
       "4                                          2089.0  \n",
       "5                                          2093.0  \n",
       "6                                          2109.0  \n",
       "7                                          2113.0  \n",
       "8                                          2126.0  \n",
       "9                                          2129.0  "
      ]
     },
     "execution_count": 135,
     "metadata": {},
     "output_type": "execute_result"
    }
   ],
   "source": [
    "#Création du DF avec les colonnes souhaitées\n",
    "df_dispo_focus_moins = df_Pop_Dispo[['Zone','Disponibilité alimentaire (Kcal/personne/jour)']]\n",
    "#Groupby Pays\n",
    "df_dispo_focus_moins = df_dispo_focus_moins.groupby('Zone').sum()\n",
    "#Trié par le plus petit puis filtre sur le top 10\n",
    "df_dispo_focus_moins = df_dispo_focus_moins.sort_values(by=['Disponibilité alimentaire (Kcal/personne/jour)'],ascending=True)\n",
    "df_dispo_focus_moins = df_dispo_focus_moins.head(10).reset_index()\n",
    "df_dispo_focus_moins\n"
   ]
  },
  {
   "cell_type": "code",
   "execution_count": 109,
   "id": "f2847978",
   "metadata": {},
   "outputs": [
    {
     "data": {
      "text/plain": [
       "<AxesSubplot:title={'center':'Les pays ayant le MOINS de disponibilité par habitant'}, xlabel='Disponibilité alimentaire (Kcal/personne/jour)', ylabel='Zone'>"
      ]
     },
     "execution_count": 109,
     "metadata": {},
     "output_type": "execute_result"
    },
    {
     "data": {
      "image/png": "[encoded data removed]",
      "text/plain": [
       "<Figure size 1200x800 with 1 Axes>"
      ]
     },
     "metadata": {},
     "output_type": "display_data"
    }
   ],
   "source": [
    "#Création du graphique\n",
    "plt.figure(figsize=(12,8))\n",
    "plt.title(\"Les pays ayant le MOINS de disponibilité par habitant\",fontsize=15,fontweight='bold')\n",
    "sns.barplot(x=\"Disponibilité alimentaire (Kcal/personne/jour)\", y=\"Zone\", data=df_dispo_focus_moins)"
   ]
  },
  {
   "cell_type": "code",
   "execution_count": null,
   "id": "92399ea8",
   "metadata": {},
   "outputs": [],
   "source": []
  },
  {
   "cell_type": "markdown",
   "id": "96e473c3",
   "metadata": {},
   "source": [
    "# FOCUS Pays Spécifiques"
   ]
  },
  {
   "cell_type": "markdown",
   "id": "5601c42a",
   "metadata": {},
   "source": [
    "## Madagascar"
   ]
  },
  {
   "cell_type": "code",
   "execution_count": 116,
   "id": "47ff54e2",
   "metadata": {},
   "outputs": [
    {
     "data": {
      "text/html": [
       "<div>\n",
       "<style scoped>\n",
       "    .dataframe tbody tr th:only-of-type {\n",
       "        vertical-align: middle;\n",
       "    }\n",
       "\n",
       "    .dataframe tbody tr th {\n",
       "        vertical-align: top;\n",
       "    }\n",
       "\n",
       "    .dataframe thead th {\n",
       "        text-align: right;\n",
       "    }\n",
       "</style>\n",
       "<table border=\"1\" class=\"dataframe\">\n",
       "  <thead>\n",
       "    <tr style=\"text-align: right;\">\n",
       "      <th></th>\n",
       "      <th>Zone</th>\n",
       "      <th>Année</th>\n",
       "      <th>Valeur_Population</th>\n",
       "      <th>Valeur_SousNutri</th>\n",
       "      <th>Pourcentage</th>\n",
       "    </tr>\n",
       "  </thead>\n",
       "  <tbody>\n",
       "    <tr>\n",
       "      <th>648</th>\n",
       "      <td>Madagascar</td>\n",
       "      <td>2013</td>\n",
       "      <td>22961.255</td>\n",
       "      <td>7600.0</td>\n",
       "      <td>33.10</td>\n",
       "    </tr>\n",
       "    <tr>\n",
       "      <th>649</th>\n",
       "      <td>Madagascar</td>\n",
       "      <td>2014</td>\n",
       "      <td>23589.888</td>\n",
       "      <td>8700.0</td>\n",
       "      <td>36.88</td>\n",
       "    </tr>\n",
       "    <tr>\n",
       "      <th>650</th>\n",
       "      <td>Madagascar</td>\n",
       "      <td>2015</td>\n",
       "      <td>24234.088</td>\n",
       "      <td>9700.0</td>\n",
       "      <td>40.03</td>\n",
       "    </tr>\n",
       "    <tr>\n",
       "      <th>651</th>\n",
       "      <td>Madagascar</td>\n",
       "      <td>2016</td>\n",
       "      <td>24894.370</td>\n",
       "      <td>10300.0</td>\n",
       "      <td>41.37</td>\n",
       "    </tr>\n",
       "    <tr>\n",
       "      <th>652</th>\n",
       "      <td>Madagascar</td>\n",
       "      <td>2017</td>\n",
       "      <td>25570.512</td>\n",
       "      <td>10500.0</td>\n",
       "      <td>41.06</td>\n",
       "    </tr>\n",
       "    <tr>\n",
       "      <th>653</th>\n",
       "      <td>Madagascar</td>\n",
       "      <td>2018</td>\n",
       "      <td>26262.313</td>\n",
       "      <td>11000.0</td>\n",
       "      <td>41.89</td>\n",
       "    </tr>\n",
       "  </tbody>\n",
       "</table>\n",
       "</div>"
      ],
      "text/plain": [
       "           Zone  Année  Valeur_Population  Valeur_SousNutri  Pourcentage\n",
       "648  Madagascar   2013          22961.255            7600.0        33.10\n",
       "649  Madagascar   2014          23589.888            8700.0        36.88\n",
       "650  Madagascar   2015          24234.088            9700.0        40.03\n",
       "651  Madagascar   2016          24894.370           10300.0        41.37\n",
       "652  Madagascar   2017          25570.512           10500.0        41.06\n",
       "653  Madagascar   2018          26262.313           11000.0        41.89"
      ]
     },
     "execution_count": 116,
     "metadata": {},
     "output_type": "execute_result"
    }
   ],
   "source": [
    "#Focus sur madagascar\n",
    "df_Pop_Nutri_Mada = df_Pop_Nutri.loc[(df_Pop_Nutri[\"Zone\"] == 'Madagascar')].copy()\n",
    "df_Pop_Nutri_Mada['Pourcentage'] =round(df_Pop_Nutri_Mada['Valeur_SousNutri']/df_Pop_Nutri_Mada['Valeur_Population']*100,2)\n",
    "df_Pop_Nutri_Mada"
   ]
  },
  {
   "cell_type": "code",
   "execution_count": 117,
   "id": "af2e6e19",
   "metadata": {},
   "outputs": [
    {
     "data": {
      "text/plain": [
       "<AxesSubplot:title={'center':'Focus Madagascar - Evolultion du % de Sous Nitrition'}, xlabel='Année', ylabel='Valeur_Population'>"
      ]
     },
     "execution_count": 117,
     "metadata": {},
     "output_type": "execute_result"
    },
    {
     "data": {
      "image/png": "[encoded data removed]",
      "text/plain": [
       "<Figure size 600x600 with 1 Axes>"
      ]
     },
     "metadata": {},
     "output_type": "display_data"
    }
   ],
   "source": [
    "Création du graphique\n",
    "plt.figure(figsize=(6,6))\n",
    "plt.title(\"Focus Madagascar - Evolultion du % de Sous Nitrition\",fontsize=15,fontweight='bold')\n",
    "sns.lineplot(x=\"Année\", y=\"Valeur_Population\", data=df_Pop_Nutri_Mada)\n",
    "sns.lineplot(x=\"Année\", y=\"Valeur_SousNutri\", data=df_Pop_Nutri_Mada)"
   ]
  },
  {
   "cell_type": "markdown",
   "id": "adfe8779",
   "metadata": {},
   "source": [
    "Coralation entre l'ugmentation de la sous noutrition et l'augmentation de la population"
   ]
  },
  {
   "cell_type": "markdown",
   "id": "81b357d4",
   "metadata": {},
   "source": [
    "haiti / madagascar"
   ]
  }
 ],
 "metadata": {
  "kernelspec": {
   "display_name": "Python 3 (ipykernel)",
   "language": "python",
   "name": "python3"
  },
  "language_info": {
   "codemirror_mode": {
    "name": "ipython",
    "version": 3
   },
   "file_extension": ".py",
   "mimetype": "text/x-python",
   "name": "python",
   "nbconvert_exporter": "python",
   "pygments_lexer": "ipython3",
   "version": "3.9.13"
  },
  "toc": {
   "base_numbering": 1,
   "nav_menu": {
    "height": "66px",
    "width": "160px"
   },
   "number_sections": true,
   "sideBar": true,
   "skip_h1_title": false,
   "title_cell": "Table of Contents",
   "title_sidebar": "Contents",
   "toc_cell": false,
   "toc_position": {
    "height": "calc(100% - 180px)",
    "left": "10px",
    "top": "150px",
    "width": "376px"
   },
   "toc_section_display": true,
   "toc_window_display": true
  },
  "varInspector": {
   "cols": {
    "lenName": 16,
    "lenType": 16,
    "lenVar": 40
   },
   "kernels_config": {
    "python": {
     "delete_cmd_postfix": "",
     "delete_cmd_prefix": "del ",
     "library": "var_list.py",
     "varRefreshCmd": "print(var_dic_list())"
    },
    "r": {
     "delete_cmd_postfix": ") ",
     "delete_cmd_prefix": "rm(",
     "library": "var_list.r",
     "varRefreshCmd": "cat(var_dic_list()) "
    }
   },
   "position": {
    "height": "728.844px",
    "left": "1546px",
    "right": "20px",
    "top": "130px",
    "width": "328px"
   },
   "types_to_exclude": [
    "module",
    "function",
    "builtin_function_or_method",
    "instance",
    "_Feature"
   ],
   "window_display": false
  }
 },
 "nbformat": 4,
 "nbformat_minor": 5
}
